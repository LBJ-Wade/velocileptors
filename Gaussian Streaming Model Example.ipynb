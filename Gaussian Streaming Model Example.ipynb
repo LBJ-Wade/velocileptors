{
 "cells": [
  {
   "cell_type": "code",
   "execution_count": null,
   "metadata": {},
   "outputs": [],
   "source": [
    "import numpy as np\n",
    "\n",
    "import time\n",
    "import sys\n",
    "\n",
    "from matplotlib import pyplot as plt"
   ]
  },
  {
   "cell_type": "markdown",
   "metadata": {},
   "source": [
    "## Gaussian streaming model ##\n",
    "\n",
    "An example of how to run the Gaussian streaming model code to produce real- and redshift-space correlation functions (i.e. configuration-space 2-point functions).\n",
    "\n",
    "The code needs an initial linear power spectrum:"
   ]
  },
  {
   "cell_type": "code",
   "execution_count": null,
   "metadata": {},
   "outputs": [],
   "source": [
    "# Read the linear theory power spectrum, produced by e.g. CAMB or CLASS.\n",
    "# We scale the z = 0 power spectrum given to give z = 0.8 results to\n",
    "# match those in the paper (Chen, Vlah & White 2020):\n",
    "z, D, f   = 0.8, 0.6819, 0.8076\n",
    "klin,plin = np.loadtxt('pk.dat',unpack=True)\n",
    "plin     *= D**2"
   ]
  },
  {
   "cell_type": "markdown",
   "metadata": {},
   "source": [
    "Now we import and initialize the class -- this takes a little while, but is a \"one time\" cost:"
   ]
  },
  {
   "cell_type": "code",
   "execution_count": null,
   "metadata": {},
   "outputs": [],
   "source": [
    "from LPT.gaussian_streaming_model_fftw import GaussianStreamingModel\n",
    "# Let's time this, since the setup takes some time (a few tens of seconds).\n",
    "start = time.time()\n",
    "#\n",
    "# This will produce a number of \"extrapolation\" warnings which\n",
    "# you can safely ignore.\n",
    "#\n",
    "gsm = GaussianStreamingModel(klin, plin, third_order=True)\n",
    "gsm.convert_sigma_bases()\n",
    "#\n",
    "print(\"Elapsed time: \",time.time()-start)"
   ]
  },
  {
   "cell_type": "markdown",
   "metadata": {},
   "source": [
    "The first step is to compute the real-space correlation function and velocity statistics that go into the Gaussian Streaming Model.  We specify the bias parameters and call `compute_cumulants`.  This is very fast:"
   ]
  },
  {
   "cell_type": "code",
   "execution_count": null,
   "metadata": {},
   "outputs": [],
   "source": [
    "# Compute Velocity Statistcs in Configuration Space\n",
    "# Here the parameters are:\n",
    "#   b1, b2, bs, b3, alpha, alpha_v, alpha_s0, alpha_s2, s2FoG\n",
    "# consisting of 4 bias parameters (b1,b2,bs,b3), four counterterms and\n",
    "# a single stochastic term, s2FoG, which corrects for the zero-lag\n",
    "# value of the velocity dispersion.\n",
    "#\n",
    "bias = [1,-0.5,0.3,0.0]\n",
    "cterm= [0, 0.0,0.0,0.0]\n",
    "stoch= [0.0]\n",
    "pars = bias + cterm + stoch\n",
    "#\n",
    "gsm.compute_cumulants(*pars)"
   ]
  },
  {
   "cell_type": "code",
   "execution_count": null,
   "metadata": {},
   "outputs": [],
   "source": [
    "# Let's look at the real-space correlation function,\n",
    "# this is also close to instantaneous:\n",
    "#\n",
    "rr  = np.linspace(5.0,135,61)\n",
    "xir = gsm.compute_xi_real(rr,*pars,rwidth=50)\n",
    "#\n",
    "plt.plot(rr, rr**2 * xir)\n",
    "plt.xlim(0,150)\n",
    "\n",
    "plt.show()"
   ]
  },
  {
   "cell_type": "code",
   "execution_count": null,
   "metadata": {},
   "outputs": [],
   "source": [
    "# Now integrate to get the correlation function multipoles:\n",
    "ss   = np.linspace(5,135,61)\n",
    "xi0s = np.zeros_like(ss)\n",
    "xi2s = np.zeros_like(ss)\n",
    "#\n",
    "start = time.time()\n",
    "for ii, rr in enumerate(ss):\n",
    "    xi0, xi2, xi4 = gsm.compute_xi_ell(rr, f, *pars, rwidth=50)\n",
    "    xi0s[ii] = xi0\n",
    "    xi2s[ii] = xi2\n",
    "#\n",
    "print(\"Elapsed time: \",time.time()-start)"
   ]
  },
  {
   "cell_type": "code",
   "execution_count": null,
   "metadata": {},
   "outputs": [],
   "source": [
    "plt.plot(ss, ss**2 * xi0s, label=r'$\\ell = 0$')\n",
    "plt.plot(ss,-ss**2 * xi2s, label=r'$\\ell = 2$')\n",
    "#\n",
    "plt.xlim(0,135)\n",
    "#\n",
    "plt.legend()\n",
    "plt.xlabel('s [Mpc/h]')\n",
    "plt.ylabel(r'$ i^\\ell s^2 \\xi_\\ell$')\n",
    "#\n",
    "plt.show()"
   ]
  },
  {
   "cell_type": "markdown",
   "metadata": {},
   "source": [
    "As part of the redshift-space calculation we also have the velocity statistics already computed.  As an example, let's look at the pairwise velocity:"
   ]
  },
  {
   "cell_type": "code",
   "execution_count": null,
   "metadata": {},
   "outputs": [],
   "source": [
    "# Plot the dipole of the mean pairwise velocity:\n",
    "plt.plot(gsm.rint, gsm.rint * gsm.veft)\n",
    "plt.xlim(0,150)\n",
    "plt.show()"
   ]
  }
 ],
 "metadata": {
  "kernelspec": {
   "display_name": "Python 3",
   "language": "python",
   "name": "python3"
  },
  "language_info": {
   "codemirror_mode": {
    "name": "ipython",
    "version": 3
   },
   "file_extension": ".py",
   "mimetype": "text/x-python",
   "name": "python",
   "nbconvert_exporter": "python",
   "pygments_lexer": "ipython3",
   "version": "3.6.7"
  }
 },
 "nbformat": 4,
 "nbformat_minor": 4
}
