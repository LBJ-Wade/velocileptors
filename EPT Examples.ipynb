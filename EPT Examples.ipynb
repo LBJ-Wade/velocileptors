{
 "cells": [
  {
   "cell_type": "code",
   "execution_count": null,
   "metadata": {},
   "outputs": [],
   "source": [
    "import numpy as np\n",
    "import time\n",
    "import sys\n",
    "\n",
    "from matplotlib import pyplot as plt"
   ]
  },
  {
   "cell_type": "markdown",
   "metadata": {},
   "source": [
    "### Moment Expansion in EPT ###\n",
    "In this notebook we demonstrate how to do the basic EPT calculations. Let's start with the moment expansion.\n",
    "\n",
    "An important difference between the EPT and LPT calculations is that the former requires us to input a \"no-wiggle\" version of the linear power spectrum, plotted below. This is included in the class as a keyword pnw, which if set to none defaults to a Savitsky-Golay filtered input linear power spectrum. However, we have found that the wiggle/no-wiggle split is cleaner if you first divide out the Eisenstein and Hu ansatz, which we leave to the user as it is cosmology dependent.\n"
   ]
  },
  {
   "cell_type": "code",
   "execution_count": null,
   "metadata": {},
   "outputs": [],
   "source": [
    "# Run the basic EPT class:\n",
    "from velocileptors.EPT.moment_expansion_fftw import MomentExpansion\n",
    "\n",
    "# we scale the z = 0 power spectrum given to give z = 0.8 results\n",
    "z, D, f = 0.8, 0.6819, 0.8076\n",
    "k, p = np.loadtxt('pk.dat').T\n",
    "knw, pnw = np.loadtxt('pnw.dat').T\n",
    "\n",
    "plt.plot(k, k*p, label=r'$P_L$')\n",
    "plt.plot(k, k*pnw, label=r'$P_{L,nw}$')\n",
    "plt.legend()\n",
    "plt.xlim(1e-3, 0.5)\n",
    "plt.xlabel('k [h/Mpc]')\n",
    "plt.ylabel(r'k P(k) [(Mpc/h)$^2$]')\n",
    "plt.show()\n"
   ]
  },
  {
   "cell_type": "markdown",
   "metadata": {},
   "source": [
    "The EPT calculation is very fast and does not depend on the number of points nk evaluated, here set to nk = 100."
   ]
  },
  {
   "cell_type": "code",
   "execution_count": null,
   "metadata": {},
   "outputs": [],
   "source": [
    "start = time.time()\n",
    "mome = MomentExpansion(k, D**2*p, pnw=D**2*pnw, kmin = 5e-3, kmax = 0.25, nk = 100,\\\n",
    "                       beyond_gauss=True, one_loop= True, third_order = True,\\\n",
    "                       N = 2000, extrap_min=-6, extrap_max=2, cutoff = 100, threads=1)\n",
    "end = time.time()\n",
    "print(end-start)"
   ]
  },
  {
   "cell_type": "code",
   "execution_count": null,
   "metadata": {},
   "outputs": [],
   "source": [
    "# We can use this to compute the various velocity moments in EPT"
   ]
  },
  {
   "cell_type": "code",
   "execution_count": null,
   "metadata": {},
   "outputs": [],
   "source": [
    "# Default parameters for the halo plots in Chen, Vlah and White (2020)\n",
    "sn, sv, s0 = 1380, 3800,  7122\n",
    "b1, b2, bs, b3 = 1.68593608, -1.17, -0.715, -0.479\n",
    "alpha, alphav, alpha0, alpha2 = 16.9, -10.8, 21.0, 5.40"
   ]
  },
  {
   "cell_type": "code",
   "execution_count": null,
   "metadata": {},
   "outputs": [],
   "source": [
    "pth = mome.combine_bias_terms_pk(b1,b2,bs,b3,alpha,sn) #pept_func(kdat, sn, b1, b2, bs, b3, alpha )\n",
    "plt.plot( mome.kv, mome.kv * pth,label=r'EPT' )\n",
    "\n",
    "#plt.plot(ept.ept.kint, ept.ept.kint* (b1**2 * ept.ept.pint + sn) )\n",
    "plt.legend()\n",
    "\n",
    "plt.xlim(0,0.25)\n",
    "plt.ylim(750,1150)\n",
    "\n",
    "plt.ylabel(r'k P(k) [h$^{-2}$ Mpc$^2$]')\n",
    "plt.show()"
   ]
  },
  {
   "cell_type": "code",
   "execution_count": null,
   "metadata": {},
   "outputs": [],
   "source": [
    "vth = mome.combine_bias_terms_vk(b1,b2,bs,b3,alphav,sv)\n",
    "plt.plot(mome.kv, -f * mome.kv**2 * vth)\n",
    "\n",
    "\n",
    "plt.ylabel(r'k$^2$ v(k) [h$^{-2}$ Mpc$^2$]')\n",
    "plt.xlim(0,0.25)\n",
    "plt.ylim(400,950)\n",
    "plt.xlabel('k [h/Mpc]')\n",
    "plt.show()"
   ]
  },
  {
   "cell_type": "code",
   "execution_count": null,
   "metadata": {},
   "outputs": [],
   "source": [
    "s0th, s2th = mome.combine_bias_terms_sk(b1,b2,bs,b3,alpha0,alpha2,s0)\n",
    "plt.plot(mome.kv, f**2 * mome.kv**3 * s0th)\n",
    "\n",
    "plt.ylabel(r'k$^3$ \\sigma_0(k) [h$^{-2}$ Mpc$^2$]')\n",
    "plt.xlim(0,0.25)\n",
    "plt.ylim(-120,180)\n",
    "plt.xlabel('k [h/Mpc]')\n",
    "plt.show()"
   ]
  },
  {
   "cell_type": "code",
   "execution_count": null,
   "metadata": {},
   "outputs": [],
   "source": [
    "plt.plot(mome.kv, f**2 * mome.kv**3 * s2th)\n",
    "\n",
    "plt.ylabel(r'k$^3$ \\sigma_2(k) [h$^{-2}$ Mpc$^2$]')\n",
    "plt.xlim(0,0.25)\n",
    "plt.ylim(-500,0)\n",
    "plt.xlabel('k [h/Mpc]')\n",
    "plt.show()"
   ]
  },
  {
   "cell_type": "code",
   "execution_count": null,
   "metadata": {},
   "outputs": [],
   "source": []
  },
  {
   "cell_type": "code",
   "execution_count": null,
   "metadata": {},
   "outputs": [],
   "source": [
    "# and combine them into the power spectrum:"
   ]
  },
  {
   "cell_type": "code",
   "execution_count": null,
   "metadata": {},
   "outputs": [],
   "source": [
    "# Now combine into wedges via the moment expansion\n",
    "plt.figure(figsize=(8,5))\n",
    "\n",
    "mus = [0.1, 0.3, 0.5, 0.7, 0.9]\n",
    "\n",
    "for ii, mu in enumerate(mus):\n",
    "    \n",
    "    # The c3 parameter is the counterterm ansatz to the third moment\n",
    "    # Note that c3 enters as c3 / 6 * k^2 mu^4 P(k)\n",
    "    \n",
    "    pars = [b1,b2,bs,b3,alpha,alphav,alpha0,alpha2,sn,sv,s0]\n",
    "    \n",
    "    kw, pw = mome.compute_redshift_space_power_at_mu(pars,f,mu, counterterm_c3 = -6*10/D**2, beyond_gauss=False,reduced=False)\n",
    "    plt.plot(kw, kw*pw,'C'+str(ii)+'-',label=r'$\\mu = %.1f$'%(mu))\n",
    "    \n",
    "    kkw, pw = mome.compute_redshift_space_power_at_mu(pars,f,mu, counterterm_c3 = 0, beyond_gauss=False,reduced=False)\n",
    "    plt.plot(kw, kw*pw,'C'+str(ii)+'--')\n",
    "\n",
    "plt.plot(kw, -1000*kw, 'k--', label='n = 2')    \n",
    "    \n",
    "plt.ylabel(r'$k P(k,\\mu)$ [(Mpc/h)$^2$]')\n",
    "\n",
    "\n",
    "plt.xlim(0,0.25)\n",
    "plt.ylim(500,2000)\n",
    "\n",
    "plt.legend(ncol=3,loc='lower right')\n",
    "\n",
    "plt.xlim(0.03,0.25)\n",
    "plt.ylim(700,2000)\n",
    "\n",
    "\n",
    "\n",
    "plt.show()"
   ]
  },
  {
   "cell_type": "code",
   "execution_count": null,
   "metadata": {},
   "outputs": [],
   "source": []
  },
  {
   "cell_type": "code",
   "execution_count": null,
   "metadata": {},
   "outputs": [],
   "source": [
    "# ... and multipoles\n",
    "plt.figure(figsize=(8,5))\n",
    "\n",
    "ks, p0g, p2g, p4g = mome.compute_redshift_space_power_multipoles(pars,f,counterterm_c3=0)\n",
    "ks, p0, p2, p4 = mome.compute_redshift_space_power_multipoles(pars,f,counterterm_c3=-6*10/D**2)\n",
    "\n",
    "plt.plot(ks, -1000*ks,'k--',label='n=2')\n",
    "plt.plot(ks, -1000*ks,'k-',label='+ c.t.')\n",
    "\n",
    "\n",
    "plt.plot(ks, ks*p0,'C0-',label=r'$\\ell = 0$')\n",
    "plt.plot(ks, ks*p0g,'C0--')\n",
    "\n",
    "plt.plot(ks, ks*p2,'C1-',label=r'$\\ell = 2$')\n",
    "plt.plot(ks, ks*p2g,'C1--')\n",
    "\n",
    "plt.plot(ks, ks*p4,'C2-',label=r'$\\ell = 4$')\n",
    "plt.plot(ks, ks*p4g,'C2--')\n",
    "\n",
    "plt.xlabel('k [h/Mpc]')\n",
    "plt.ylabel(r'$k P_\\ell(k)$ [(Mpc/h)$^2$]')\n",
    "\n",
    "plt.xlim(0,0.25)\n",
    "plt.ylim(0,1600)\n",
    "\n",
    "plt.legend(ncol=3,loc='upper right')\n",
    "\n",
    "plt.show()"
   ]
  },
  {
   "cell_type": "code",
   "execution_count": null,
   "metadata": {},
   "outputs": [],
   "source": []
  },
  {
   "cell_type": "markdown",
   "metadata": {},
   "source": [
    "### Direct Evaluationa of One-Loop Redshift-Space Power Spectrum ###\n",
    "We can also take an extra step and resum contributions from bulk velocities. This gives the \"full IR-resummed\" power spectrum in EPT, whereas summing up real-space moments naturally only resums the displacements."
   ]
  },
  {
   "cell_type": "code",
   "execution_count": null,
   "metadata": {},
   "outputs": [],
   "source": [
    "# Can also use compute the 1-loop P(k,mu) directly:\n",
    "# note third_order is not a keyword in this class since it is always on\n",
    "from velocileptors.EPT.ept_fullresum_fftw import REPT"
   ]
  },
  {
   "cell_type": "code",
   "execution_count": null,
   "metadata": {},
   "outputs": [],
   "source": [
    "start = time.time()\n",
    "ept = REPT(k, D**2*p, pnw=D**2*pnw, kmin = 5e-3, kmax = 0.25, nk = 100,\\\n",
    "           beyond_gauss=True, one_loop= True,\\\n",
    "           N = 2000, extrap_min=-6, extrap_max=2, cutoff = 100, threads=1)\n",
    "\n",
    "end = time.time()\n",
    "print(end-start)"
   ]
  },
  {
   "cell_type": "code",
   "execution_count": null,
   "metadata": {},
   "outputs": [],
   "source": [
    "# Compare with moment expansion:\n",
    "b1, b2, bs, b3 = 1.68593608, -1.17, -0.715, -0.479\n",
    "sn, sn2, sn4 = 0, 0, 0\n",
    "alpha0, alpha2, alpha4, alpha6 = 0,0,0,0\n",
    "pars = [b1, b2, bs, b3, alpha0, alpha2, alpha4, alpha6, sn, sn2, sn4]"
   ]
  },
  {
   "cell_type": "markdown",
   "metadata": {},
   "source": [
    "Let's see how it compares to the moment expansion. The differences in the wiggles are most noticeable in the highest mu in, as one might expect. Note that there is a large contribution from one-loop wiggles.\n",
    "\n",
    "Here we set beyond_gauss = True so that the third and fourth moments are included, since they are necessarily present in the direct one-loop calculation."
   ]
  },
  {
   "cell_type": "code",
   "execution_count": null,
   "metadata": {},
   "outputs": [],
   "source": [
    "plt.figure(figsize=(8,5))\n",
    "\n",
    "mus = [0.1, 0.3, 0.5, 0.7, 0.9]\n",
    "\n",
    "\n",
    "for ii, mu in enumerate(mus):\n",
    "    \n",
    "    kw, pw = ept.compute_redshift_space_power_at_mu(pars,f,mu)\n",
    "    plt.plot(kw, kw*pw,'C'+str(ii)+'-',label=r'$\\mu = %.1f$'%(mu))\n",
    "    \n",
    "    kw, pw = mome.compute_redshift_space_power_at_mu(pars,f,mu,beyond_gauss=True)\n",
    "    plt.plot(kw, kw*pw,'C'+str(ii)+'--')\n",
    "\n",
    "\n",
    "\n",
    "plt.plot(kw, -1000*kw, 'k--',label='ME')\n",
    "plt.ylabel(r'$k P(k,\\mu)$ [(Mpc/h)$^2$]')\n",
    "plt.xlabel(r'k [h/Mpc]')\n",
    "\n",
    "\n",
    "plt.xlim(0,0.25)\n",
    "plt.ylim(400,1900)\n",
    "\n",
    "plt.legend(ncol=3,loc='upper right')\n",
    "\n",
    "\n",
    "\n",
    "plt.show()"
   ]
  },
  {
   "cell_type": "code",
   "execution_count": null,
   "metadata": {},
   "outputs": [],
   "source": [
    "# ... and multipoles\n",
    "plt.figure(figsize=(8,5))\n",
    "\n",
    "ks, p0g, p2g, p4g = mome.compute_redshift_space_power_multipoles(pars,f,beyond_gauss=True,reduced=True)\n",
    "ks, p0, p2, p4 = ept.compute_redshift_space_power_multipoles(pars,f)\n",
    "\n",
    "\n",
    "plt.plot(ks, -1000*ks,'k-',label='ME')\n",
    "plt.plot(ks, -1000*ks,'k--',label='Full')\n",
    "\n",
    "\n",
    "plt.plot(ks, ks*p0,'C0-',label=r'$\\ell = 0$')\n",
    "plt.plot(ks, ks*p0g,'C0--')\n",
    "\n",
    "plt.plot(ks, ks*p2,'C1-',label=r'$\\ell = 2$')\n",
    "plt.plot(ks, ks*p2g,'C1--')\n",
    "\n",
    "plt.plot(ks, ks*p4,'C2-',label=r'$\\ell = 4$')\n",
    "plt.plot(ks, ks*p4g,'C2--')\n",
    "\n",
    "plt.xlabel('k [h/Mpc]')\n",
    "plt.ylabel(r'$k P_\\ell(k)$ [(Mpc/h)$^2$]')\n",
    "\n",
    "plt.xlim(0,0.25)\n",
    "plt.ylim(0,1400)\n",
    "\n",
    "plt.legend(ncol=3,loc='upper right')\n",
    "\n",
    "plt.show()"
   ]
  },
  {
   "cell_type": "code",
   "execution_count": null,
   "metadata": {},
   "outputs": [],
   "source": []
  },
  {
   "cell_type": "code",
   "execution_count": null,
   "metadata": {},
   "outputs": [],
   "source": []
  },
  {
   "cell_type": "code",
   "execution_count": null,
   "metadata": {},
   "outputs": [],
   "source": []
  }
 ],
 "metadata": {
  "kernelspec": {
   "display_name": "Python 3",
   "language": "python",
   "name": "python3"
  },
  "language_info": {
   "codemirror_mode": {
    "name": "ipython",
    "version": 3
   },
   "file_extension": ".py",
   "mimetype": "text/x-python",
   "name": "python",
   "nbconvert_exporter": "python",
   "pygments_lexer": "ipython3",
   "version": "3.6.7"
  }
 },
 "nbformat": 4,
 "nbformat_minor": 2
}
