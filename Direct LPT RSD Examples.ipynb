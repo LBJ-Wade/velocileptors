{
 "cells": [
  {
   "cell_type": "code",
   "execution_count": 1,
   "metadata": {},
   "outputs": [],
   "source": [
    "import numpy as np\n",
    "\n",
    "import time\n",
    "import sys\n",
    "\n",
    "from matplotlib import pyplot as plt"
   ]
  },
  {
   "cell_type": "markdown",
   "metadata": {},
   "source": [
    "### Redshift-Space Distortions in LPT ###\n",
    "\n",
    "Example of how to use the code to compute the redshift-space power spectrum in LPT.\n",
    "\n",
    "The first step is to import the LPT_RSD class and initialize it.  The first time this is run it can be a bit slow, but once this has been run the first time on a given platform you can save the 'wisdom' file that FFTW uses and this will speed up further executions (using the `export_wisdom` method of MomentExpansion).\n",
    "\n",
    "Let's start with the LPT code:"
   ]
  },
  {
   "cell_type": "code",
   "execution_count": 2,
   "metadata": {},
   "outputs": [],
   "source": [
    "from LPT.lpt_rsd_fftw import LPT_RSD"
   ]
  },
  {
   "cell_type": "code",
   "execution_count": 3,
   "metadata": {},
   "outputs": [],
   "source": [
    "# To match the plots in Chen, Vlah & White (2020) let's\n",
    "# work at z=0.8, and scale our initial power spectrum\n",
    "# to that redshift:\n",
    "z,D,f      = 0.8, 0.6819, 0.8076\n",
    "klin,plin  = np.loadtxt(\"pk.dat\",unpack=True)\n",
    "plin      *= D**2"
   ]
  },
  {
   "cell_type": "code",
   "execution_count": 4,
   "metadata": {},
   "outputs": [
    {
     "name": "stdout",
     "output_type": "stream",
     "text": [
      "Elapsed time:  0.9471981525421143  seconds.\n"
     ]
    }
   ],
   "source": [
    "# Initialize the class -- with no wisdom file passed it will\n",
    "# experiment to find the fastest FFT algorithm for the system.\n",
    "start= time.time()\n",
    "lpt = LPT_RSD(klin,plin,kIR=0.2)\n",
    "print(\"Elapsed time: \",time.time()-start,\" seconds.\")\n",
    "# You could save the wisdom file here if you wanted:\n",
    "# mome.export_wisdom(wisdom_file_name)"
   ]
  },
  {
   "cell_type": "code",
   "execution_count": null,
   "metadata": {},
   "outputs": [],
   "source": []
  },
  {
   "cell_type": "markdown",
   "metadata": {},
   "source": [
    "We'll start with how to compute $P(k,\\mu)$ given a linear theory $P(k)$ file:"
   ]
  },
  {
   "cell_type": "code",
   "execution_count": 5,
   "metadata": {},
   "outputs": [
    {
     "name": "stdout",
     "output_type": "stream",
     "text": [
      "Elapsed time:  0.987537145614624  seconds.\n"
     ]
    }
   ],
   "source": [
    "# Set up some fiducial values for the parameters -- we'll use the\n",
    "# same paramters as in the paper\n",
    "\n",
    "# pars: the biases and counter terms.\n",
    "# b1,b2,bs, b3: linear, quadratic & cubic parameters\n",
    "# alpha0,alpha2,alpha4: counterterms\n",
    "# sn,s0: stochastic contributions to P(k) and sigma^2.\n",
    "\n",
    "biases = [0.71,0.26,0.67,0.52]\n",
    "cterms = [-3.4,-1.7,6.5,0]\n",
    "stoch  = [1500.,-1900.,0]\n",
    "pars   = biases + cterms + stoch\n",
    "#\n",
    "# Compute the wedges, here we'll just to a single mu.  Note if we\n",
    "# just wanted the real-space power spectrum we could pass mu=0 to\n",
    "# compute_redshift_space_power_at_mu.  Here we'll do mu=0.5:\n",
    "mu     = 0.5\n",
    "start  = time.time()\n",
    "lpt.make_ptable(f,mu)\n",
    "kw, pw = lpt.combine_bias_terms_pkmu(mu,pars)\n",
    "print(\"Elapsed time: \",time.time()-start,\" seconds.\")"
   ]
  },
  {
   "cell_type": "code",
   "execution_count": 6,
   "metadata": {},
   "outputs": [
    {
     "name": "stdout",
     "output_type": "stream",
     "text": [
      "# First few k bins for mu= 0.5\n",
      "#          k      P(k,mu)\n",
      "  1.0000e-02   4.8977e+04\n",
      "  1.0679e-02   4.9930e+04\n",
      "  1.1404e-02   5.0755e+04\n",
      "  1.2178e-02   5.1428e+04\n",
      "  1.3005e-02   5.1933e+04\n",
      "  1.3888e-02   5.2250e+04\n",
      "  1.4831e-02   5.2360e+04\n",
      "  1.5838e-02   5.2246e+04\n",
      "  1.6914e-02   5.1890e+04\n",
      "  1.8062e-02   5.1280e+04\n"
     ]
    }
   ],
   "source": [
    "print(\"# First few k bins for mu=\",mu)\n",
    "print(\"# {:>10s} {:>12s}\".format(\"k\",\"P(k,mu)\"))\n",
    "for k,p in zip(kw[:10],pw[:10]):\n",
    "    print(\"{:12.4e} {:12.4e}\".format(k,p))"
   ]
  },
  {
   "cell_type": "code",
   "execution_count": null,
   "metadata": {},
   "outputs": [],
   "source": []
  },
  {
   "cell_type": "markdown",
   "metadata": {},
   "source": [
    "And now let's look at the (even) multipoles, $P_{\\ell}(k)$:"
   ]
  },
  {
   "cell_type": "code",
   "execution_count": 7,
   "metadata": {},
   "outputs": [
    {
     "name": "stdout",
     "output_type": "stream",
     "text": [
      "Elapsed time:  3.4983158111572266  seconds.\n"
     ]
    }
   ],
   "source": [
    "# It's about as easy to compute the multipole moments up to ell=4:\n",
    "# You can add AP distortions by setting apar, aperp not equal to unity\n",
    "start       = time.time()\n",
    "lpt.make_pltable(f,nmax=4,apar=1,aperp=1)\n",
    "kl,p0,p2,p4 = lpt.combine_bias_terms_pkell(pars)\n",
    "print(\"Elapsed time: \",time.time()-start,\" seconds.\")"
   ]
  },
  {
   "cell_type": "code",
   "execution_count": 8,
   "metadata": {},
   "outputs": [
    {
     "name": "stdout",
     "output_type": "stream",
     "text": [
      "# First few k bins for multipoles\n",
      "#          k           P0           P2           P4\n",
      "  1.0000e-02   5.3056e+04   2.8273e+04   1.8832e+03\n",
      "  1.0679e-02   5.4088e+04   2.8828e+04   1.9175e+03\n",
      "  1.1404e-02   5.4980e+04   2.9303e+04   1.9461e+03\n",
      "  1.2178e-02   5.5708e+04   2.9684e+04   1.9679e+03\n",
      "  1.3005e-02   5.6252e+04   2.9961e+04   1.9824e+03\n",
      "  1.3888e-02   5.6590e+04   3.0120e+04   1.9887e+03\n",
      "  1.4831e-02   5.6704e+04   3.0152e+04   1.9862e+03\n",
      "  1.5838e-02   5.6572e+04   3.0045e+04   1.9741e+03\n",
      "  1.6914e-02   5.6178e+04   2.9790e+04   1.9518e+03\n",
      "  1.8062e-02   5.5507e+04   2.9380e+04   1.9190e+03\n"
     ]
    }
   ],
   "source": [
    "print(\"# First few k bins for multipoles\")\n",
    "print(\"# {:>10s} {:>12s} {:>12s} {:>12s}\".format(\"k\",\"P0\",\"P2\",\"P4\"))\n",
    "for k,mono,quad,hexa in zip(kl[:10],p0[:10],p2[:10],p4[:10]):\n",
    "    print(\"{:12.4e} {:12.4e} {:12.4e} {:12.4e}\".format(k,mono,quad,hexa))"
   ]
  },
  {
   "cell_type": "code",
   "execution_count": 9,
   "metadata": {},
   "outputs": [
    {
     "data": {
      "image/png": "[encoded data removed]",
      "text/plain": [
       "<matplotlib.figure.Figure at 0x7fb76fc399e8>"
      ]
     },
     "metadata": {},
     "output_type": "display_data"
    }
   ],
   "source": [
    "plt.figure(figsize=(8,4))\n",
    "\n",
    "plt.plot(kl, kl*p0, label=r'$\\ell = 0$')\n",
    "plt.plot(kl, kl*p2, label=r'$\\ell = 2$')\n",
    "plt.plot(kl, 5*kl*p4, label=r'$\\ell = 4$')\n",
    "\n",
    "plt.xlim(0,0.25)\n",
    "plt.ylabel(r'$k P_\\ell(k)$ [(Mpc/h)$^2$]')\n",
    "plt.xlabel(r'$k$ [h/Mpc]')\n",
    "plt.legend()\n",
    "\n",
    "plt.show()"
   ]
  },
  {
   "cell_type": "code",
   "execution_count": null,
   "metadata": {},
   "outputs": [],
   "source": []
  },
  {
   "cell_type": "markdown",
   "metadata": {},
   "source": [
    "You can also specify a fixed set of bias parameters and get configuration space multipoles.\n",
    "(More documentation to come.)"
   ]
  },
  {
   "cell_type": "code",
   "execution_count": 10,
   "metadata": {},
   "outputs": [
    {
     "data": {
      "image/png": "[encoded data removed]",
      "text/plain": [
       "<matplotlib.figure.Figure at 0x7fb770b45f60>"
      ]
     },
     "metadata": {},
     "output_type": "display_data"
    }
   ],
   "source": [
    "# Set stochastic parameters to zero because they make delta functions in config space\n",
    "biases = [0.71,0.26,0.67,0.52]\n",
    "cterms = [-3.4,-1.7,6.5,0]\n",
    "stoch  = [0, 0, 0]\n",
    "pars   = biases + cterms + stoch\n",
    "\n",
    "xi0, xi2, xi4 = lpt.make_xiell_fixedbias(f,pars)\n",
    "\n",
    "plt.plot(xi0[0], xi0[0]**2 * xi0[1], label=r'$\\ell = 0$')\n",
    "plt.plot(xi2[0], -xi2[0]**2 * xi2[1], label=r'$\\ell = 2$')\n",
    "\n",
    "plt.xlabel(r'r [Mpc/h]')\n",
    "plt.ylabel(r'$i^\\ell r^2 \\xi_\\ell$ [(Mpc/h)$^2$]')\n",
    "plt.legend()\n",
    "\n",
    "plt.xlim(0,150)\n",
    "plt.ylim(0,80)\n",
    "plt.show()"
   ]
  },
  {
   "cell_type": "code",
   "execution_count": null,
   "metadata": {},
   "outputs": [],
   "source": []
  }
 ],
 "metadata": {
  "kernelspec": {
   "display_name": "Python 3",
   "language": "python",
   "name": "python3"
  },
  "language_info": {
   "codemirror_mode": {
    "name": "ipython",
    "version": 3
   },
   "file_extension": ".py",
   "mimetype": "text/x-python",
   "name": "python",
   "nbconvert_exporter": "python",
   "pygments_lexer": "ipython3",
   "version": "3.6.7"
  }
 },
 "nbformat": 4,
 "nbformat_minor": 2
}
