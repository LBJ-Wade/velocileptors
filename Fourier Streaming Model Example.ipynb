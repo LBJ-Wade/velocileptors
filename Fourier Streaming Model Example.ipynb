{
 "cells": [
  {
   "cell_type": "code",
   "execution_count": 1,
   "metadata": {},
   "outputs": [],
   "source": [
    "import numpy as np\n",
    "\n",
    "import time\n",
    "import sys\n",
    "\n",
    "from matplotlib import pyplot as plt"
   ]
  },
  {
   "cell_type": "code",
   "execution_count": 3,
   "metadata": {},
   "outputs": [
    {
     "name": "stdout",
     "output_type": "stream",
     "text": [
      "7.84994101524353\n"
     ]
    }
   ],
   "source": [
    "# Run the Fourier streaming model!\n",
    "from LPT.fourier_streaming_model_fftw import FourierStreamingModel\n",
    "\n",
    "# we scale the z = 0 power spectrum given to give z = 0.8 results\n",
    "z, D, f = 0.8, 0.6819, 0.8076\n",
    "k, p = np.loadtxt('pk.dat').T\n",
    "\n",
    "t1 = time.time()\n",
    "fsm = FourierStreamingModel(k, D**2 * p, one_loop= True, import_wisdom=True, wisdom_file='./wisdom.npy',\\\n",
    "                        kmin = 1e-2, kmax = 0.5, nk = 100,\n",
    "                        cutoff=10, extrap_min = -4, extrap_max = 3, N = 4000, threads=1, jn=10, shear=True)\n",
    "t2 = time.time()\n",
    "print(t2-t1)"
   ]
  },
  {
   "cell_type": "code",
   "execution_count": null,
   "metadata": {},
   "outputs": [],
   "source": []
  },
  {
   "cell_type": "code",
   "execution_count": 4,
   "metadata": {},
   "outputs": [],
   "source": [
    "# Let's proceed straight to the power spectrum with the bias vector\n",
    "bvec = [0.70, -1.3, -0.06, 0, 7.4, -17., 8.9, 3.1, 1.9e3, -4.2e3, -670]"
   ]
  },
  {
   "cell_type": "code",
   "execution_count": 5,
   "metadata": {},
   "outputs": [
    {
     "ename": "NameError",
     "evalue": "name 'counterterm_c3' is not defined",
     "output_type": "error",
     "traceback": [
      "\u001b[0;31m---------------------------------------------------------------------------\u001b[0m",
      "\u001b[0;31mNameError\u001b[0m                                 Traceback (most recent call last)",
      "\u001b[0;32m<ipython-input-5-6c9a1b9974cc>\u001b[0m in \u001b[0;36m<module>\u001b[0;34m()\u001b[0m\n\u001b[1;32m      8\u001b[0m     \u001b[0;31m# The c3 parameter is the counterterm ansatz to the third moment\u001b[0m\u001b[0;34m\u001b[0m\u001b[0;34m\u001b[0m\u001b[0;34m\u001b[0m\u001b[0m\n\u001b[1;32m      9\u001b[0m     \u001b[0;31m# Note that c3 enters as c3 / 6 * k^2 mu^4 P(k)\u001b[0m\u001b[0;34m\u001b[0m\u001b[0;34m\u001b[0m\u001b[0;34m\u001b[0m\u001b[0m\n\u001b[0;32m---> 10\u001b[0;31m     \u001b[0mkw\u001b[0m\u001b[0;34m,\u001b[0m \u001b[0mpw\u001b[0m \u001b[0;34m=\u001b[0m \u001b[0mfsm\u001b[0m\u001b[0;34m.\u001b[0m\u001b[0mcompute_redshift_space_power\u001b[0m\u001b[0;34m(\u001b[0m\u001b[0mbvec\u001b[0m\u001b[0;34m,\u001b[0m\u001b[0mf\u001b[0m\u001b[0;34m,\u001b[0m\u001b[0mnu\u001b[0m\u001b[0;34m,\u001b[0m\u001b[0mcounterterm_c3\u001b[0m\u001b[0;34m=\u001b[0m\u001b[0;34m-\u001b[0m\u001b[0;36m120\u001b[0m\u001b[0;34m)\u001b[0m\u001b[0;34m\u001b[0m\u001b[0;34m\u001b[0m\u001b[0m\n\u001b[0m\u001b[1;32m     11\u001b[0m     \u001b[0mplt\u001b[0m\u001b[0;34m.\u001b[0m\u001b[0mplot\u001b[0m\u001b[0;34m(\u001b[0m\u001b[0mkw\u001b[0m\u001b[0;34m,\u001b[0m \u001b[0mkw\u001b[0m\u001b[0;34m*\u001b[0m\u001b[0mpw\u001b[0m\u001b[0;34m,\u001b[0m\u001b[0;34m'C'\u001b[0m\u001b[0;34m+\u001b[0m\u001b[0mstr\u001b[0m\u001b[0;34m(\u001b[0m\u001b[0mii\u001b[0m\u001b[0;34m)\u001b[0m\u001b[0;34m+\u001b[0m\u001b[0;34m'-'\u001b[0m\u001b[0;34m,\u001b[0m\u001b[0mlabel\u001b[0m\u001b[0;34m=\u001b[0m\u001b[0;34mr'$\\mu = %.1f$'\u001b[0m\u001b[0;34m%\u001b[0m\u001b[0;34m(\u001b[0m\u001b[0mnu\u001b[0m\u001b[0;34m)\u001b[0m\u001b[0;34m)\u001b[0m\u001b[0;34m\u001b[0m\u001b[0;34m\u001b[0m\u001b[0m\n\u001b[1;32m     12\u001b[0m \u001b[0;34m\u001b[0m\u001b[0m\n",
      "\u001b[0;32m~/Work/velocileptors/LPT/fourier_streaming_model_fftw.py\u001b[0m in \u001b[0;36mcompute_redshift_space_power\u001b[0;34m(self, bvec, f, nu, counterterm_c3)\u001b[0m\n\u001b[1;32m     69\u001b[0m     \u001b[0;32mdef\u001b[0m \u001b[0mcompute_redshift_space_power\u001b[0m\u001b[0;34m(\u001b[0m\u001b[0mself\u001b[0m\u001b[0;34m,\u001b[0m \u001b[0mbvec\u001b[0m\u001b[0;34m,\u001b[0m \u001b[0mf\u001b[0m\u001b[0;34m,\u001b[0m \u001b[0mnu\u001b[0m\u001b[0;34m,\u001b[0m \u001b[0mcounterterm_c3\u001b[0m\u001b[0;34m=\u001b[0m\u001b[0;36m0\u001b[0m\u001b[0;34m)\u001b[0m\u001b[0;34m:\u001b[0m\u001b[0;34m\u001b[0m\u001b[0;34m\u001b[0m\u001b[0m\n\u001b[1;32m     70\u001b[0m \u001b[0;34m\u001b[0m\u001b[0m\n\u001b[0;32m---> 71\u001b[0;31m         \u001b[0mself\u001b[0m\u001b[0;34m.\u001b[0m\u001b[0mcompute_cumulants\u001b[0m\u001b[0;34m(\u001b[0m\u001b[0mbvec\u001b[0m\u001b[0;34m)\u001b[0m\u001b[0;34m\u001b[0m\u001b[0;34m\u001b[0m\u001b[0m\n\u001b[0m\u001b[1;32m     72\u001b[0m \u001b[0;34m\u001b[0m\u001b[0m\n\u001b[1;32m     73\u001b[0m         \u001b[0mnu2\u001b[0m \u001b[0;34m=\u001b[0m \u001b[0mnu\u001b[0m\u001b[0;34m**\u001b[0m\u001b[0;36m2\u001b[0m\u001b[0;34m\u001b[0m\u001b[0;34m\u001b[0m\u001b[0m\n",
      "\u001b[0;32m~/Work/velocileptors/LPT/fourier_streaming_model_fftw.py\u001b[0m in \u001b[0;36mcompute_cumulants\u001b[0;34m(self, bvec)\u001b[0m\n\u001b[1;32m     50\u001b[0m         \u001b[0;31m# Compute each moment\u001b[0m\u001b[0;34m\u001b[0m\u001b[0;34m\u001b[0m\u001b[0;34m\u001b[0m\u001b[0m\n\u001b[1;32m     51\u001b[0m         \u001b[0mb1\u001b[0m\u001b[0;34m,\u001b[0m \u001b[0mb2\u001b[0m\u001b[0;34m,\u001b[0m \u001b[0mbs\u001b[0m\u001b[0;34m,\u001b[0m \u001b[0mb3\u001b[0m\u001b[0;34m,\u001b[0m \u001b[0malpha\u001b[0m\u001b[0;34m,\u001b[0m \u001b[0malpha_v\u001b[0m\u001b[0;34m,\u001b[0m \u001b[0malpha_s0\u001b[0m\u001b[0;34m,\u001b[0m \u001b[0malpha_s2\u001b[0m\u001b[0;34m,\u001b[0m \u001b[0msn\u001b[0m\u001b[0;34m,\u001b[0m \u001b[0msv\u001b[0m\u001b[0;34m,\u001b[0m \u001b[0msigma0_stoch\u001b[0m \u001b[0;34m=\u001b[0m \u001b[0mbvec\u001b[0m\u001b[0;34m\u001b[0m\u001b[0;34m\u001b[0m\u001b[0m\n\u001b[0;32m---> 52\u001b[0;31m         \u001b[0mct3\u001b[0m \u001b[0;34m=\u001b[0m \u001b[0mcounterterm_c3\u001b[0m\u001b[0;34m\u001b[0m\u001b[0;34m\u001b[0m\u001b[0m\n\u001b[0m\u001b[1;32m     53\u001b[0m \u001b[0;34m\u001b[0m\u001b[0m\n\u001b[1;32m     54\u001b[0m         \u001b[0mkv\u001b[0m\u001b[0;34m,\u001b[0m \u001b[0mpk\u001b[0m \u001b[0;34m=\u001b[0m \u001b[0mself\u001b[0m\u001b[0;34m.\u001b[0m\u001b[0mcombine_bias_terms_pk\u001b[0m\u001b[0;34m(\u001b[0m\u001b[0mb1\u001b[0m\u001b[0;34m,\u001b[0m\u001b[0mb2\u001b[0m\u001b[0;34m,\u001b[0m\u001b[0mbs\u001b[0m\u001b[0;34m,\u001b[0m\u001b[0mb3\u001b[0m\u001b[0;34m,\u001b[0m\u001b[0malpha\u001b[0m\u001b[0;34m,\u001b[0m\u001b[0msn\u001b[0m\u001b[0;34m)\u001b[0m\u001b[0;34m\u001b[0m\u001b[0;34m\u001b[0m\u001b[0m\n",
      "\u001b[0;31mNameError\u001b[0m: name 'counterterm_c3' is not defined"
     ]
    }
   ],
   "source": [
    "plt.figure(figsize=(8,5))\n",
    "\n",
    "nus = [0.1, 0.3, 0.5, 0.7, 0.9]\n",
    "\n",
    "\n",
    "for ii, nu in enumerate(nus):\n",
    "    \n",
    "    # The c3 parameter is the counterterm ansatz to the third moment\n",
    "    # Note that c3 enters as c3 / 6 * k^2 mu^4 P(k)\n",
    "    kw, pw = fsm.compute_redshift_space_power(bvec,f,nu,counterterm_c3=-120)\n",
    "    plt.plot(kw, kw*pw,'C'+str(ii)+'-',label=r'$\\mu = %.1f$'%(nu))\n",
    "    \n",
    "    kw, pw = fsm.compute_redshift_space_power(bvec,f,nu,counterterm_c3=0)\n",
    "    plt.plot(kw, kw*pw,'C'+str(ii)+'--')\n",
    "\n",
    "plt.plot(kw, -1000*kw, 'k--', label='n = 2')    \n",
    "    \n",
    "plt.ylabel(r'$k P(k,\\mu)$ [(Mpc/h)$^2$]')\n",
    "\n",
    "\n",
    "plt.xlim(0,0.25)\n",
    "plt.ylim(500,2000)\n",
    "\n",
    "plt.legend(ncol=3,loc='lower right')\n",
    "\n",
    "plt.show()"
   ]
  },
  {
   "cell_type": "code",
   "execution_count": null,
   "metadata": {},
   "outputs": [],
   "source": [
    "# ... and multipoles\n",
    "plt.figure(figsize=(8,5))\n",
    "\n",
    "ks, p0g, p2g, p4g = fsm.compute_redshift_space_power_multipoles(bvec,f,counterterm_c3=-120)\n",
    "ks, p0, p2, p4 = fsm.compute_redshift_space_power_multipoles(bvec,f,counterterm_c3=0)\n",
    "\n",
    "plt.plot(ks, -1000*ks,'k--',label='n=2')\n",
    "plt.plot(ks, -1000*ks,'k-',label='+ c.t.')\n",
    "\n",
    "\n",
    "plt.plot(ks, ks*p0,'C0-',label=r'$\\ell = 0$')\n",
    "plt.plot(ks, ks*p0g,'C0--')\n",
    "\n",
    "plt.plot(ks, ks*p2,'C1-',label=r'$\\ell = 2$')\n",
    "plt.plot(ks, ks*p2g,'C1--')\n",
    "\n",
    "plt.plot(ks, ks*p4,'C2-',label=r'$\\ell = 4$')\n",
    "plt.plot(ks, ks*p4g,'C2--')\n",
    "\n",
    "plt.xlabel('k [h/Mpc]')\n",
    "plt.ylabel(r'$k P_\\ell(k)$ [(Mpc/h)$^2$]')\n",
    "\n",
    "plt.xlim(0,0.25)\n",
    "plt.ylim(0,1600)\n",
    "\n",
    "plt.legend(ncol=3,loc='upper right')\n",
    "\n",
    "plt.show()"
   ]
  },
  {
   "cell_type": "code",
   "execution_count": null,
   "metadata": {},
   "outputs": [],
   "source": []
  }
 ],
 "metadata": {
  "kernelspec": {
   "display_name": "Python 3",
   "language": "python",
   "name": "python3"
  },
  "language_info": {
   "codemirror_mode": {
    "name": "ipython",
    "version": 3
   },
   "file_extension": ".py",
   "mimetype": "text/x-python",
   "name": "python",
   "nbconvert_exporter": "python",
   "pygments_lexer": "ipython3",
   "version": "3.6.7"
  }
 },
 "nbformat": 4,
 "nbformat_minor": 2
}
