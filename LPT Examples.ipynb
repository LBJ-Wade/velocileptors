{
 "cells": [
  {
   "cell_type": "code",
   "execution_count": 1,
   "metadata": {},
   "outputs": [],
   "source": [
    "import numpy as np\n",
    "\n",
    "import time\n",
    "import sys\n",
    "\n",
    "from matplotlib import pyplot as plt"
   ]
  },
  {
   "cell_type": "markdown",
   "metadata": {},
   "source": [
    "### Moment Expansion in LPT ###\n",
    "\n",
    "Example of how to use the code to compute the redshift-space power spectrum using the moment expansion (and ancillary quantities, like the velocity moments).\n",
    "\n",
    "The first step is to import the MomentExpansion class and initialize it.  The first time this is run it can be a bit slow, but once this has been run the first time on a given platform you can save the 'wisdom' file that FFTW uses and this will speed up further executions (using the `export_wisdom` method of MomentExpansion).\n",
    "\n",
    "Let's start with the LPT code:"
   ]
  },
  {
   "cell_type": "code",
   "execution_count": 2,
   "metadata": {},
   "outputs": [],
   "source": [
    "from LPT.moment_expansion_fftw import MomentExpansion"
   ]
  },
  {
   "cell_type": "code",
   "execution_count": 3,
   "metadata": {},
   "outputs": [],
   "source": [
    "# To match the plots in Chen, Vlah & White (2020) let's\n",
    "# work at z=0.8, and scale our initial power spectrum\n",
    "# to that redshift:\n",
    "z,D,f      = 0.8,0.6819,0.8076\n",
    "klin,plin  = np.loadtxt(\"pk.dat\",unpack=True)\n",
    "plin      *= D**2"
   ]
  },
  {
   "cell_type": "code",
   "execution_count": 4,
   "metadata": {},
   "outputs": [
    {
     "name": "stdout",
     "output_type": "stream",
     "text": [
      "Elapsed time:  2.8833940029144287  seconds.\n"
     ]
    }
   ],
   "source": [
    "# Initialize the class -- with no wisdom file passed it will\n",
    "# experiment to find the fastest FFT algorithm for the system.\n",
    "start= time.time()\n",
    "mome = MomentExpansion(klin,plin)\n",
    "print(\"Elapsed time: \",time.time()-start,\" seconds.\")\n",
    "# You could save the wisdom file here if you wanted:\n",
    "# mome.export_wisdom(wisdom_file_name)"
   ]
  },
  {
   "cell_type": "markdown",
   "metadata": {},
   "source": [
    "We'll start with how to compute $P(k,\\mu)$ given a linear theory $P(k)$ file:"
   ]
  },
  {
   "cell_type": "code",
   "execution_count": 5,
   "metadata": {},
   "outputs": [
    {
     "name": "stdout",
     "output_type": "stream",
     "text": [
      "Elapsed time:  0.0005908012390136719  seconds.\n"
     ]
    }
   ],
   "source": [
    "# Set up some fiducial values for the parameters -- we'll use the\n",
    "# examples from the paper and we'll used the \"reduced\" parameter set:\n",
    "# pars: the biases and counter terms.\n",
    "#    b1,b2,bs, b3: linear, quadratic & cubic parameters\n",
    "#    alpha0,alpha2,alpha4: counterterms\n",
    "#    sn,s0: stochastic contributions to P(k) and sigma^2.\n",
    "biases = [0.70,0.5,-0.3,0.0]\n",
    "cterms = [10.0,20.,-60.]\n",
    "stoch  = [1800.,-1000.]\n",
    "pars   = biases + cterms + stoch\n",
    "#\n",
    "# Compute the wedges, here we'll just to a single mu.  Note if we\n",
    "# just wanted the real-space power spectrum we could pass mu=0 to\n",
    "# compute_redshift_space_power_at_mu.  Here we'll do mu=0.5:\n",
    "mu     = 0.5\n",
    "start  = time.time()\n",
    "kw,pkw = mome.compute_redshift_space_power_at_mu(pars,f,mu,reduced=True)\n",
    "print(\"Elapsed time: \",time.time()-start,\" seconds.\")"
   ]
  },
  {
   "cell_type": "code",
   "execution_count": 6,
   "metadata": {},
   "outputs": [
    {
     "name": "stdout",
     "output_type": "stream",
     "text": [
      "# First few k bins for mu= 0.5\n",
      "#          k      P(k,mu)\n",
      "  5.0000e-03   3.4373e+04\n",
      "  5.4357e-03   3.6169e+04\n",
      "  5.9095e-03   3.7974e+04\n",
      "  6.4245e-03   3.9771e+04\n",
      "  6.9843e-03   4.1540e+04\n",
      "  7.5930e-03   4.3258e+04\n",
      "  8.2547e-03   4.4903e+04\n",
      "  8.9741e-03   4.6444e+04\n",
      "  9.7562e-03   4.7851e+04\n",
      "  1.0606e-02   4.9090e+04\n"
     ]
    }
   ],
   "source": [
    "print(\"# First few k bins for mu=\",mu)\n",
    "print(\"# {:>10s} {:>12s}\".format(\"k\",\"P(k,mu)\"))\n",
    "for k,p in zip(kw[:10],pkw[:10]):\n",
    "    print(\"{:12.4e} {:12.4e}\".format(k,p))"
   ]
  },
  {
   "cell_type": "markdown",
   "metadata": {},
   "source": [
    "And now let's look at the (even) multipoles, $P_{\\ell}(k)$:"
   ]
  },
  {
   "cell_type": "code",
   "execution_count": 7,
   "metadata": {},
   "outputs": [
    {
     "name": "stdout",
     "output_type": "stream",
     "text": [
      "Elapsed time:  0.0025632381439208984  seconds.\n"
     ]
    }
   ],
   "source": [
    "# It's about as easy to compute the multipole moments up to ell=4:\n",
    "start       = time.time()\n",
    "kl,p0,p2,p4 = mome.compute_redshift_space_power_multipoles(pars,f,reduced=True)\n",
    "print(\"Elapsed time: \",time.time()-start,\" seconds.\")"
   ]
  },
  {
   "cell_type": "code",
   "execution_count": 8,
   "metadata": {},
   "outputs": [
    {
     "name": "stdout",
     "output_type": "stream",
     "text": [
      "# First few k bins for multipoles\n",
      "#          k           P0           P2           P4\n",
      "  5.0000e-03   3.7237e+04   1.9817e+04   1.3400e+03\n",
      "  5.4357e-03   3.9190e+04   2.0906e+04   1.4135e+03\n",
      "  5.9095e-03   4.1154e+04   2.2000e+04   1.4873e+03\n",
      "  6.4245e-03   4.3108e+04   2.3087e+04   1.5606e+03\n",
      "  6.9843e-03   4.5032e+04   2.4156e+04   1.6326e+03\n",
      "  7.5930e-03   4.6899e+04   2.5192e+04   1.7023e+03\n",
      "  8.2547e-03   4.8687e+04   2.6181e+04   1.7687e+03\n",
      "  8.9741e-03   5.0362e+04   2.7106e+04   1.8307e+03\n",
      "  9.7562e-03   5.1889e+04   2.7945e+04   1.8869e+03\n",
      "  1.0606e-02   5.3234e+04   2.8679e+04   1.9359e+03\n"
     ]
    }
   ],
   "source": [
    "print(\"# First few k bins for multipoles\")\n",
    "print(\"# {:>10s} {:>12s} {:>12s} {:>12s}\".format(\"k\",\"P0\",\"P2\",\"P4\"))\n",
    "for k,mono,quad,hexa in zip(kl[:10],p0[:10],p2[:10],p4[:10]):\n",
    "    print(\"{:12.4e} {:12.4e} {:12.4e} {:12.4e}\".format(k,mono,quad,hexa))"
   ]
  },
  {
   "cell_type": "markdown",
   "metadata": {},
   "source": [
    "### Advanced options ###\n",
    "\n",
    "Now we can start looking at the various options to the code, and how to use a broader set of parameters to investigate more statistics:"
   ]
  },
  {
   "cell_type": "code",
   "execution_count": 9,
   "metadata": {},
   "outputs": [
    {
     "name": "stdout",
     "output_type": "stream",
     "text": [
      "1.5858700275421143\n"
     ]
    }
   ],
   "source": [
    "# Run the moment expansion!\n",
    "from LPT.moment_expansion_fftw import MomentExpansion\n",
    "\n",
    "# we scale the z = 0 power spectrum given to give z = 0.8 results\n",
    "z, D, f = 0.8, 0.6819, 0.8076\n",
    "k, p = np.loadtxt('pk.dat').T\n",
    "\n",
    "t1 = time.time()\n",
    "moments = MomentExpansion(k, D**2 * p, beyond_gauss = False, one_loop= True, import_wisdom=True, wisdom_file='./wisdom.npy',\\\n",
    "                        kmin = 1e-2, kmax = 0.5, nk = 50,\n",
    "                        cutoff=10, extrap_min = -4, extrap_max = 3, N = 2000, threads=1, jn=5, shear=True)\n",
    "t2 = time.time()\n",
    "print(t2-t1)"
   ]
  },
  {
   "cell_type": "code",
   "execution_count": 10,
   "metadata": {},
   "outputs": [],
   "source": [
    "# this saves a file called \"wisdom.npy\" that speeds up fftw if running for first time\n",
    "moments.export_wisdom('./wisdom.npy')"
   ]
  },
  {
   "cell_type": "code",
   "execution_count": null,
   "metadata": {},
   "outputs": [],
   "source": []
  },
  {
   "cell_type": "code",
   "execution_count": 11,
   "metadata": {},
   "outputs": [],
   "source": [
    "# Extract the Velocity Statistics First for a sample set of bias parameters\n",
    "# Parameters chosen to match the plots in the paper.\n",
    "\n",
    "# These are, in order\n",
    "# b1, b2, bs, b3: linear quadratic parameters\n",
    "# alpha, alphav, alpha_s0, alpha_s2: one-loop counterterms for each component of the velocity moments\n",
    "# sn, sv, s0: stochastic contributions to power spectrum, 1st, and 2nd moments\n",
    "\n",
    "\n",
    "pars = [0.70, -1.3, -0.06, 0,  7.4, -17., 8.9, 3.1, 1.9e3, -4.2e3, -670]\n",
    "b1, b2, bs, b3, alpha, alpha_v, alpha_s0, alpha_s2, sn, sv, s0 = pars \n"
   ]
  },
  {
   "cell_type": "code",
   "execution_count": 12,
   "metadata": {},
   "outputs": [
    {
     "data": {
      "image/png": "[encoded data removed]",
      "text/plain": [
       "<matplotlib.figure.Figure at 0x116099ba8>"
      ]
     },
     "metadata": {},
     "output_type": "display_data"
    }
   ],
   "source": [
    "# The (real space) power spectrum:\n",
    "kv, pth = moments.combine_bias_terms_pk(b1, b2, bs, b3, alpha, sn)\n",
    "plt.semilogx( kv, kv * pth,label=r'LPT' )\n",
    "\n",
    "plt.legend()\n",
    "plt.xscale('linear')\n",
    "\n",
    "plt.xlim(0,0.25)\n",
    "plt.ylim(850,1120)\n",
    "\n",
    "plt.ylabel(r'k P(k) [h$^{-2}$ Mpc$^2$]')\n",
    "plt.xlabel('k [h/Mpc]')\n",
    "plt.show()"
   ]
  },
  {
   "cell_type": "code",
   "execution_count": 13,
   "metadata": {},
   "outputs": [
    {
     "data": {
      "image/png": "[encoded data removed]",
      "text/plain": [
       "<matplotlib.figure.Figure at 0x116a01518>"
      ]
     },
     "metadata": {},
     "output_type": "display_data"
    }
   ],
   "source": [
    "# the 1st pairwise velocity moment\n",
    "kv, vth = moments.combine_bias_terms_vk(b1, b2, bs, b3, alpha_v, sv)\n",
    "plt.semilogx( kv, -f*kv**2 * vth )\n",
    "\n",
    "kv, vth = moments.combine_bias_terms_vk(b1, 0, 0, 0, 0, 0)\n",
    "plt.semilogx( kv, -f*kv**2 * vth, label=r'$b_1$' )\n",
    "\n",
    "kv, vth = moments.combine_bias_terms_vk(b1, b2, bs, b3, 0, 0)\n",
    "plt.semilogx( kv, -f*kv**2 * vth, label=r'$b_2, b_s$' )\n",
    "\n",
    "kv, vth = moments.combine_bias_terms_vk(b1, b2, bs, b3, alpha_v, 0)\n",
    "plt.semilogx( kv, -f*kv**2 * vth, label=r'+ c.t.' )\n",
    "\n",
    "\n",
    "plt.legend(loc='upper right')\n",
    "plt.ylabel(r'k$^2$ v(k) [h$^{-2}$ Mpc$^2$]')\n",
    "\n",
    "plt.xscale('linear')\n",
    "plt.xlim(0,0.25)\n",
    "plt.ylim(400,950)\n",
    "\n",
    "plt.xlabel('k [h/Mpc]')\n",
    "plt.show()\n"
   ]
  },
  {
   "cell_type": "code",
   "execution_count": 14,
   "metadata": {},
   "outputs": [
    {
     "data": {
      "image/png": "[encoded data removed]",
      "text/plain": [
       "<matplotlib.figure.Figure at 0x116bd3940>"
      ]
     },
     "metadata": {},
     "output_type": "display_data"
    }
   ],
   "source": [
    "# the 2nd pairwise velocity moment, monopole\n",
    "# Note that the default basis is polynomial in mu for rsd convenience\n",
    "# but for velocities only better to look at Legendre (multipole) basis\n",
    "\n",
    "kv, s0th, s2th = moments.combine_bias_terms_sk(b1, b2, bs, b3, alpha_s0, alpha_s2, s0, basis='Legendre')\n",
    "plt.semilogx( kv, f**2*kv**3 * s0th )\n",
    "\n",
    "kv, s0th, s2th = moments.combine_bias_terms_sk(b1, 0, 0, 0, 0, 0, 0, basis='Legendre')\n",
    "plt.semilogx( kv, f**2*kv**3 * s0th, label=r'$b_1$' )\n",
    "\n",
    "kv, s0th, s2th = moments.combine_bias_terms_sk(b1, b2, bs, b3, 0, 0, 0, basis='Legendre')\n",
    "plt.semilogx( kv, f**2*kv**3 * s0th, label=r'$b_2, b_s, b_3$' )\n",
    "\n",
    "kv, s0th, s2th = moments.combine_bias_terms_sk(b1, b2, bs, b3, alpha_s0, alpha_s2, 0, basis='Legendre')\n",
    "plt.semilogx( kv, f**2*kv**3 * s0th, label=r'+ c.t.' )\n",
    "\n",
    "\n",
    "plt.legend(loc='upper right')\n",
    "plt.ylabel(r'k$^3$ $\\sigma_0$(k) [h$^{-2}$ Mpc$^2$]')\n",
    "\n",
    "plt.xscale('linear')\n",
    "plt.xlim(0,0.25)\n",
    "plt.ylim(-120,180)\n",
    "\n",
    "plt.xlabel('k [h/Mpc]')\n",
    "plt.show()\n"
   ]
  },
  {
   "cell_type": "code",
   "execution_count": 15,
   "metadata": {},
   "outputs": [
    {
     "data": {
      "image/png": "[encoded data removed]",
      "text/plain": [
       "<matplotlib.figure.Figure at 0x1169a9a90>"
      ]
     },
     "metadata": {},
     "output_type": "display_data"
    }
   ],
   "source": [
    "# the 2nd pairwise velocity moment, quadrupole\n",
    "kv, s0th, s2th = moments.combine_bias_terms_sk(b1, b2, bs, b3, alpha_s0, alpha_s2, s0, basis='Legendre')\n",
    "plt.semilogx( kv, f**2*kv**3 * s2th )\n",
    "\n",
    "kv, s0th, s2th = moments.combine_bias_terms_sk(b1, 0, 0, 0, 0, 0, 0, basis='Legendre')\n",
    "plt.semilogx( kv, f**2*kv**3 * s2th, label=r'$b_1$' )\n",
    "\n",
    "kv, s0th, s2th = moments.combine_bias_terms_sk(b1, b2, bs, b3, 0, 0, 0, basis='Legendre')\n",
    "plt.semilogx( kv, f**2*kv**3 * s2th, label=r'$b_2, b_s$' )\n",
    "\n",
    "kv, s0th, s2th = moments.combine_bias_terms_sk(b1, b2, bs, b3, alpha_s0, alpha_s2, 0, basis='Legendre')\n",
    "plt.semilogx( kv, f**2*kv**3 * s2th, label=r'+ c.t.' )\n",
    "\n",
    "\n",
    "plt.legend(loc='upper right')\n",
    "plt.ylabel(r'k$^3$ $\\sigma_0$(k) [h$^{-2}$ Mpc$^2$]')\n",
    "\n",
    "plt.xscale('linear')\n",
    "plt.xlim(0,0.25)\n",
    "plt.ylim(-500,0)\n",
    "\n",
    "plt.xlabel('k [h/Mpc]')\n",
    "plt.show()"
   ]
  },
  {
   "cell_type": "code",
   "execution_count": null,
   "metadata": {},
   "outputs": [],
   "source": []
  },
  {
   "cell_type": "code",
   "execution_count": 16,
   "metadata": {},
   "outputs": [
    {
     "data": {
      "image/png": "[encoded data removed]",
      "text/plain": [
       "<matplotlib.figure.Figure at 0x11656d588>"
      ]
     },
     "metadata": {},
     "output_type": "display_data"
    }
   ],
   "source": [
    "# Now combine into wedges via the moment expansion\n",
    "plt.figure(figsize=(8,5))\n",
    "\n",
    "mus = [0.1, 0.3, 0.5, 0.7, 0.9]\n",
    "\n",
    "\n",
    "for ii, mu in enumerate(mus):\n",
    "    \n",
    "    # The c3 parameter is the counterterm ansatz to the third moment\n",
    "    # Note that c3 enters as c3 / 6 * k^2 mu^4 P(k)\n",
    "    kw, pw = moments.compute_redshift_space_power_at_mu(pars,f,mu,counterterm_c3=-120)\n",
    "    plt.plot(kw, kw*pw,'C'+str(ii)+'-',label=r'$\\mu = %.1f$'%(mu))\n",
    "    \n",
    "    kw, pw = moments.compute_redshift_space_power_at_mu(pars,f,mu,counterterm_c3=0)\n",
    "    plt.plot(kw, kw*pw,'C'+str(ii)+'--')\n",
    "\n",
    "plt.plot(kw, -1000*kw, 'k--', label='n = 2')    \n",
    "    \n",
    "plt.ylabel(r'$k P(k,\\mu)$ [(Mpc/h)$^2$]')\n",
    "\n",
    "\n",
    "plt.xlim(0,0.25)\n",
    "plt.ylim(500,2000)\n",
    "\n",
    "plt.legend(ncol=3,loc='lower right')\n",
    "\n",
    "\n",
    "\n",
    "plt.show()"
   ]
  },
  {
   "cell_type": "code",
   "execution_count": null,
   "metadata": {},
   "outputs": [],
   "source": []
  },
  {
   "cell_type": "code",
   "execution_count": 17,
   "metadata": {},
   "outputs": [
    {
     "data": {
      "image/png": "[encoded data removed]",
      "text/plain": [
       "<matplotlib.figure.Figure at 0x1169839b0>"
      ]
     },
     "metadata": {},
     "output_type": "display_data"
    }
   ],
   "source": [
    "# ... and multipoles\n",
    "plt.figure(figsize=(8,5))\n",
    "\n",
    "ks, p0g, p2g, p4g = moments.compute_redshift_space_power_multipoles(pars,f,counterterm_c3=-120)\n",
    "ks, p0, p2, p4 = moments.compute_redshift_space_power_multipoles(pars,f,counterterm_c3=0)\n",
    "\n",
    "plt.plot(ks, -1000*ks,'k--',label='n=2')\n",
    "plt.plot(ks, -1000*ks,'k-',label='+ c.t.')\n",
    "\n",
    "\n",
    "plt.plot(ks, ks*p0,'C0-',label=r'$\\ell = 0$')\n",
    "plt.plot(ks, ks*p0g,'C0--')\n",
    "\n",
    "plt.plot(ks, ks*p2,'C1-',label=r'$\\ell = 2$')\n",
    "plt.plot(ks, ks*p2g,'C1--')\n",
    "\n",
    "plt.plot(ks, ks*p4,'C2-',label=r'$\\ell = 4$')\n",
    "plt.plot(ks, ks*p4g,'C2--')\n",
    "\n",
    "plt.xlabel('k [h/Mpc]')\n",
    "plt.ylabel(r'$k P_\\ell(k)$ [(Mpc/h)$^2$]')\n",
    "\n",
    "plt.xlim(0,0.25)\n",
    "plt.ylim(0,1600)\n",
    "\n",
    "plt.legend(ncol=3,loc='upper right')\n",
    "\n",
    "plt.show()"
   ]
  },
  {
   "cell_type": "code",
   "execution_count": null,
   "metadata": {},
   "outputs": [],
   "source": []
  },
  {
   "cell_type": "code",
   "execution_count": 18,
   "metadata": {},
   "outputs": [
    {
     "data": {
      "image/png": "[encoded data removed]",
      "text/plain": [
       "<matplotlib.figure.Figure at 0x116ada2e8>"
      ]
     },
     "metadata": {},
     "output_type": "display_data"
    }
   ],
   "source": [
    "# Note that we can also enter a more reduced set of parameters using the \"reduced\" keyword\n",
    "# These are:\n",
    "# the bias parameters b1, b2, bs\n",
    "# the counterterms alpha0, alpha2, alpha4,\n",
    "# and the stochastic contributions sn, s0\n",
    "# In this case the \"counterterm_c3\" parameters is unused because it is subsumed by alpha4\n",
    "\n",
    "# As an example let's take:\n",
    "pars = [0.7, 0.5, -0.3, 0, 10, 20, -60, 1800, -1000]\n",
    "\n",
    "# Now combine into wedges via the moment expansion...\n",
    "# Compared here to Kaiser x Real Space P(k), which is very different!\n",
    "\n",
    "plt.figure(figsize=(8,5))\n",
    "\n",
    "mus = [0.1, 0.3, 0.5, 0.7, 0.9]\n",
    "\n",
    "\n",
    "for ii, mu in enumerate(mus):\n",
    "    \n",
    "    kw, pw = moments.compute_redshift_space_power_at_mu(pars,f,mu,reduced=True)\n",
    "    plt.plot(kw, kw*pw,'C'+str(ii)+'-',label=r'$\\mu = %.1f$'%(mu))\n",
    "    \n",
    "    kw, pw = moments.compute_redshift_space_power_at_mu(pars,f,0,reduced=True)\n",
    "    plt.plot(kw, kw *( (1 + pars[0] + f*mu**2)**2 / (1 + pars[0])**2 * (pw-pars[7]) + pars[7]),'C'+str(ii)+'--')\n",
    "    \n",
    "plt.plot(kw, -1000*kw, 'k--',label='Kaiser')\n",
    "plt.ylabel(r'$k P(k,\\mu)$ [(Mpc/h)$^2$]')\n",
    "\n",
    "\n",
    "plt.xlim(0,0.25)\n",
    "plt.ylim(500,2100)\n",
    "\n",
    "plt.legend(ncol=3,loc='lower right')\n",
    "\n",
    "\n",
    "\n",
    "plt.show()\n"
   ]
  },
  {
   "cell_type": "code",
   "execution_count": 19,
   "metadata": {},
   "outputs": [
    {
     "data": {
      "image/png": "[encoded data removed]",
      "text/plain": [
       "<matplotlib.figure.Figure at 0x116aafc18>"
      ]
     },
     "metadata": {},
     "output_type": "display_data"
    }
   ],
   "source": [
    "# and similarly for multipoles:\n",
    "\n",
    "plt.figure(figsize=(8,5))\n",
    "\n",
    "ks, p0, p2, p4 = moments.compute_redshift_space_power_multipoles(pars,f,reduced=True)\n",
    "\n",
    "\n",
    "plt.plot(ks, ks*p0,'C0-',label=r'$\\ell = 0$')\n",
    "\n",
    "plt.plot(ks, ks*p2,'C1-',label=r'$\\ell = 2$')\n",
    "\n",
    "plt.plot(ks, ks*p4,'C2-',label=r'$\\ell = 4$')\n",
    "\n",
    "plt.xlabel('k [h/Mpc]')\n",
    "plt.ylabel(r'$k P_\\ell(k)$ [(Mpc/h)$^2$]')\n",
    "\n",
    "plt.xlim(0,0.25)\n",
    "plt.ylim(0,1600)\n",
    "\n",
    "plt.legend(ncol=3,loc='upper right')\n",
    "\n",
    "plt.show()\n"
   ]
  },
  {
   "cell_type": "code",
   "execution_count": null,
   "metadata": {},
   "outputs": [],
   "source": []
  },
  {
   "cell_type": "code",
   "execution_count": null,
   "metadata": {},
   "outputs": [],
   "source": []
  }
 ],
 "metadata": {
  "kernelspec": {
   "display_name": "Python 3",
   "language": "python",
   "name": "python3"
  },
  "language_info": {
   "codemirror_mode": {
    "name": "ipython",
    "version": 3
   },
   "file_extension": ".py",
   "mimetype": "text/x-python",
   "name": "python",
   "nbconvert_exporter": "python",
   "pygments_lexer": "ipython3",
   "version": "3.6.7"
  }
 },
 "nbformat": 4,
 "nbformat_minor": 4
}
