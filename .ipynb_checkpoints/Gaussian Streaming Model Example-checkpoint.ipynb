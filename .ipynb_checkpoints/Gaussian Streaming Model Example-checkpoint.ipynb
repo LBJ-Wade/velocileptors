{
 "cells": [
  {
   "cell_type": "code",
   "execution_count": 1,
   "metadata": {},
   "outputs": [],
   "source": [
    "import numpy as np\n",
    "\n",
    "import time\n",
    "import sys\n",
    "\n",
    "from matplotlib import pyplot as plt"
   ]
  },
  {
   "cell_type": "code",
   "execution_count": 2,
   "metadata": {},
   "outputs": [
    {
     "name": "stdout",
     "output_type": "stream",
     "text": [
      "In function -  __init__\n",
      "WARNING: Runaway index on right side, bad interpolation. Reft index = 2.298e+00 at 1.000e+00\n",
      "In function -  __init__\n",
      "WARNING: Runaway index on right side, bad interpolation. Reft index = 1.938e+01 at 1.000e+00\n",
      "In function -  __init__\n",
      "WARNING: Runaway index on left side, bad interpolation. Left index = -8.739e-04 at 3.089e-03\n",
      "In function -  __init__\n",
      "WARNING: Runaway index on left side, bad interpolation. Left index = -7.983e-03 at 3.089e-03\n",
      "In function -  __init__\n",
      "WARNING: Runaway index on left side, bad interpolation. Left index = -1.435e-02 at 3.089e-03\n",
      "In function -  __init__\n",
      "WARNING: Runaway index on left side, bad interpolation. Left index = -2.146e-01 at 3.089e-03\n",
      "In function -  __init__\n",
      "WARNING: Runaway index on right side, bad interpolation. Reft index = 1.298e+00 at 1.000e+00\n",
      "In function -  __init__\n",
      "WARNING: Runaway index on right side, bad interpolation. Reft index = 1.838e+01 at 1.000e+00\n",
      "In function -  __init__\n",
      "WARNING: Runaway index on left side, bad interpolation. Left index = -2.145e-01 at 3.089e-03\n"
     ]
    },
    {
     "name": "stderr",
     "output_type": "stream",
     "text": [
      "/Users/sschen/Work/velocilptors/loginterp.py:16: RuntimeWarning: invalid value encountered in double_scalars\n",
      "  lneff = derivative(yint, x[l], dx = x[l]*ldx, order = lorder)*x[l]/y[l]\n",
      "/Users/sschen/Work/velocilptors/loginterp.py:17: RuntimeWarning: invalid value encountered in double_scalars\n",
      "  rneff = derivative(yint, x[r], dx = x[r]*rdx, order = rorder)*x[r]/y[r]\n"
     ]
    },
    {
     "name": "stdout",
     "output_type": "stream",
     "text": [
      "In function -  __init__\n",
      "WARNING: Runaway index on left side, bad interpolation. Left index = -2.144e-01 at 3.089e-03\n",
      "In function -  __init__\n",
      "WARNING: Runaway index on left side, bad interpolation. Left index = -1.222e+00 at 3.180e-03\n",
      "In function -  __init__\n",
      "WARNING: Runaway index on left side, bad interpolation. Left index = -1.221e+00 at 3.180e-03\n",
      "In function -  __init__\n",
      "WARNING: Runaway index on left side, bad interpolation. Left index = -4.910e-02 at 3.180e-03\n",
      "In function -  __init__\n",
      "WARNING: Runaway index on left side, bad interpolation. Left index = -1.226e-01 at 3.180e-03\n",
      "In function -  __init__\n",
      "WARNING: Runaway index on left side, bad interpolation. Left index = -1.291e+00 at 4.136e-03\n",
      "In function -  __init__\n",
      "WARNING: Runaway index on left side, bad interpolation. Left index = -1.248e+00 at 3.574e-03\n",
      "37.1305296421051\n"
     ]
    }
   ],
   "source": [
    "# Run the Gaussian streaming model!\n",
    "from gaussian_streaming_model_fftw import GaussianStreamingModel\n",
    "\n",
    "# we scale the z = 0 power spectrum given to give z = 0.8 results\n",
    "z, D, f = 0.8, 0.6819, 0.8076\n",
    "k, p = np.loadtxt('pk.dat').T\n",
    "\n",
    "import time\n",
    "start = time.time()\n",
    "gsm = GaussianStreamingModel(k, D**2*p, kmin=3e-3, kmax=1, nk=200, one_loop= True, shear = True,\\\n",
    "                               N = 4000, extrap_min=-6, extrap_max=2, cutoff = 100, threads=1)\n",
    "gsm.convert_sigma_bases()\n",
    "end = time.time()\n",
    "print(end-start)"
   ]
  },
  {
   "cell_type": "code",
   "execution_count": null,
   "metadata": {},
   "outputs": [],
   "source": []
  },
  {
   "cell_type": "code",
   "execution_count": 3,
   "metadata": {},
   "outputs": [],
   "source": [
    "# Compute Velocity Statistcs in Configuration Space\n",
    "# Here the bias parameters are b1, b2, bs, alpha, alpha_v, s2FoG, alpha_s0, alpha_s2\n",
    "# There are no stochastic contributions in configuration space except for s2FoG\n",
    "# which corrects for the zero-lag value of the velocity dispersion\n",
    "\n",
    "bvec = [1,-0.5,0.3,0,0,0,0,0]\n",
    "gsm.compute_cumulants(*bvec)"
   ]
  },
  {
   "cell_type": "code",
   "execution_count": 4,
   "metadata": {},
   "outputs": [
    {
     "data": {
      "image/png": "[encoded data removed]",
      "text/plain": [
       "<matplotlib.figure.Figure at 0x11ca5c860>"
      ]
     },
     "metadata": {},
     "output_type": "display_data"
    }
   ],
   "source": [
    "# For example we can plot the dipole of the mean pairwise velocity:\n",
    "plt.plot(gsm.rint, gsm.veft)\n",
    "\n",
    "plt.xlim(-10,150)\n",
    "\n",
    "#plt.ylim(0,100)\n",
    "\n",
    "plt.show()"
   ]
  },
  {
   "cell_type": "code",
   "execution_count": null,
   "metadata": {},
   "outputs": [],
   "source": []
  },
  {
   "cell_type": "code",
   "execution_count": 5,
   "metadata": {},
   "outputs": [
    {
     "name": "stdout",
     "output_type": "stream",
     "text": [
      "0.3053429126739502\n"
     ]
    }
   ],
   "source": [
    "# Now integrate to get the correlation function multipoles:\n",
    "\n",
    "rs = np.linspace(5,135,61)\n",
    "xi0s = np.zeros_like(rs)\n",
    "xi2s = np.zeros_like(rs)\n",
    "\n",
    "start = time.time()\n",
    "for ii, rr in enumerate(rs):\n",
    "    xi0, xi2, xi4 = gsm.compute_xi_ell(rr, f, *bvec, rwidth=50)\n",
    "    xi0s[ii] = xi0\n",
    "    xi2s[ii] = xi2\n",
    "end = time.time()\n",
    "print(end-start)\n"
   ]
  },
  {
   "cell_type": "code",
   "execution_count": 6,
   "metadata": {},
   "outputs": [
    {
     "data": {
      "image/png": "[encoded data removed]",
      "text/plain": [
       "<matplotlib.figure.Figure at 0x11dc00630>"
      ]
     },
     "metadata": {},
     "output_type": "display_data"
    }
   ],
   "source": [
    "plt.plot(rs, rs**2 * xi0s, label=r'$\\ell = 0$')\n",
    "plt.plot(rs, -rs**2 * xi2s, label=r'$\\ell = 2$')\n",
    "\n",
    "\n",
    "plt.xlim(0,135)\n",
    "\n",
    "plt.legend()\n",
    "plt.xlabel('r [Mpc/h]')\n",
    "plt.ylabel(r'$ i^\\ell r^2 \\xi_\\ell$')\n",
    "\n",
    "plt.show()"
   ]
  },
  {
   "cell_type": "code",
   "execution_count": null,
   "metadata": {},
   "outputs": [],
   "source": []
  }
 ],
 "metadata": {
  "kernelspec": {
   "display_name": "Python 3",
   "language": "python",
   "name": "python3"
  },
  "language_info": {
   "codemirror_mode": {
    "name": "ipython",
    "version": 3
   },
   "file_extension": ".py",
   "mimetype": "text/x-python",
   "name": "python",
   "nbconvert_exporter": "python",
   "pygments_lexer": "ipython3",
   "version": "3.6.7"
  }
 },
 "nbformat": 4,
 "nbformat_minor": 2
}
