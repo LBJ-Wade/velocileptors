{
 "cells": [
  {
   "cell_type": "code",
   "execution_count": 1,
   "metadata": {},
   "outputs": [],
   "source": [
    "import numpy as np\n",
    "\n",
    "import time\n",
    "import sys\n",
    "\n",
    "from matplotlib import pyplot as plt"
   ]
  },
  {
   "cell_type": "code",
   "execution_count": 2,
   "metadata": {},
   "outputs": [
    {
     "ename": "ModuleNotFoundError",
     "evalue": "No module named 'velocity_moments_fftw'",
     "output_type": "error",
     "traceback": [
      "\u001b[0;31m---------------------------------------------------------------------------\u001b[0m",
      "\u001b[0;31mModuleNotFoundError\u001b[0m                       Traceback (most recent call last)",
      "\u001b[0;32m<ipython-input-2-bb6e8a6235f4>\u001b[0m in \u001b[0;36m<module>\u001b[0;34m()\u001b[0m\n\u001b[1;32m      1\u001b[0m \u001b[0;31m# Run the Fourier streaming model!\u001b[0m\u001b[0;34m\u001b[0m\u001b[0;34m\u001b[0m\u001b[0;34m\u001b[0m\u001b[0m\n\u001b[0;32m----> 2\u001b[0;31m \u001b[0;32mfrom\u001b[0m \u001b[0mLPT\u001b[0m\u001b[0;34m.\u001b[0m\u001b[0mfourier_streaming_model_fftw\u001b[0m \u001b[0;32mimport\u001b[0m \u001b[0mFourierStreamingModel\u001b[0m\u001b[0;34m\u001b[0m\u001b[0;34m\u001b[0m\u001b[0m\n\u001b[0m\u001b[1;32m      3\u001b[0m \u001b[0;34m\u001b[0m\u001b[0m\n\u001b[1;32m      4\u001b[0m \u001b[0;31m# we scale the z = 0 power spectrum given to give z = 0.8 results\u001b[0m\u001b[0;34m\u001b[0m\u001b[0;34m\u001b[0m\u001b[0;34m\u001b[0m\u001b[0m\n\u001b[1;32m      5\u001b[0m \u001b[0mz\u001b[0m\u001b[0;34m,\u001b[0m \u001b[0mD\u001b[0m\u001b[0;34m,\u001b[0m \u001b[0mf\u001b[0m \u001b[0;34m=\u001b[0m \u001b[0;36m0.8\u001b[0m\u001b[0;34m,\u001b[0m \u001b[0;36m0.6819\u001b[0m\u001b[0;34m,\u001b[0m \u001b[0;36m0.8076\u001b[0m\u001b[0;34m\u001b[0m\u001b[0;34m\u001b[0m\u001b[0m\n",
      "\u001b[0;32m~/Work/velocileptors/LPT/fourier_streaming_model_fftw.py\u001b[0m in \u001b[0;36m<module>\u001b[0;34m()\u001b[0m\n\u001b[1;32m      1\u001b[0m \u001b[0;32mimport\u001b[0m \u001b[0mnumpy\u001b[0m \u001b[0;32mas\u001b[0m \u001b[0mnp\u001b[0m\u001b[0;34m\u001b[0m\u001b[0;34m\u001b[0m\u001b[0m\n\u001b[1;32m      2\u001b[0m \u001b[0;34m\u001b[0m\u001b[0m\n\u001b[0;32m----> 3\u001b[0;31m \u001b[0;32mfrom\u001b[0m \u001b[0mvelocity_moments_fftw\u001b[0m \u001b[0;32mimport\u001b[0m \u001b[0mVelocityMoments\u001b[0m\u001b[0;34m\u001b[0m\u001b[0;34m\u001b[0m\u001b[0m\n\u001b[0m\u001b[1;32m      4\u001b[0m \u001b[0;34m\u001b[0m\u001b[0m\n\u001b[1;32m      5\u001b[0m \u001b[0;32mclass\u001b[0m \u001b[0mFourierStreamingModel\u001b[0m\u001b[0;34m(\u001b[0m\u001b[0mVelocityMoments\u001b[0m\u001b[0;34m)\u001b[0m\u001b[0;34m:\u001b[0m\u001b[0;34m\u001b[0m\u001b[0;34m\u001b[0m\u001b[0m\n",
      "\u001b[0;31mModuleNotFoundError\u001b[0m: No module named 'velocity_moments_fftw'"
     ]
    }
   ],
   "source": [
    "# Run the Fourier streaming model!\n",
    "from LPT.fourier_streaming_model_fftw import FourierStreamingModel\n",
    "\n",
    "# we scale the z = 0 power spectrum given to give z = 0.8 results\n",
    "z, D, f = 0.8, 0.6819, 0.8076\n",
    "k, p = np.loadtxt('pk.dat').T\n",
    "\n",
    "t1 = time.time()\n",
    "fsm = FourierStreamingModel(k, D**2 * p, one_loop= True, import_wisdom=True, wisdom_file='./zelda_wisdom.npy',\\\n",
    "                        kmin = 1e-2, kmax = 0.5, nk = 100,\n",
    "                        cutoff=10, extrap_min = -4, extrap_max = 3, N = 4000, threads=1, jn=10, shear=True)\n",
    "t2 = time.time()\n",
    "print(t2-t1)"
   ]
  },
  {
   "cell_type": "code",
   "execution_count": null,
   "metadata": {},
   "outputs": [],
   "source": []
  },
  {
   "cell_type": "code",
   "execution_count": null,
   "metadata": {},
   "outputs": [],
   "source": [
    "# Let's proceed straight to the power spectrum with the bias vector\n",
    "bvec = [0.70, -1.3, -0.06, 7.4, -17., 8.9, 3.1, 1.9e3, -4.2e3, -670]"
   ]
  },
  {
   "cell_type": "code",
   "execution_count": null,
   "metadata": {},
   "outputs": [],
   "source": [
    "plt.figure(figsize=(8,5))\n",
    "\n",
    "nus = [0.1, 0.3, 0.5, 0.7, 0.9]\n",
    "\n",
    "\n",
    "for ii, nu in enumerate(nus):\n",
    "    \n",
    "    # The c3 parameter is the counterterm ansatz to the third moment\n",
    "    # Note that c3 enters as c3 / 6 * k^2 mu^4 P(k)\n",
    "    kw, pw = fsm.compute_redshift_space_power(bvec,f,nu,counterterm_c3=-120)\n",
    "    plt.plot(kw, kw*pw,'C'+str(ii)+'-',label=r'$\\mu = %.1f$'%(nu))\n",
    "    \n",
    "    kw, pw = fsm.compute_redshift_space_power(bvec,f,nu,counterterm_c3=0)\n",
    "    plt.plot(kw, kw*pw,'C'+str(ii)+'--')\n",
    "\n",
    "plt.plot(kw, -1000*kw, 'k--', label='n = 2')    \n",
    "    \n",
    "plt.ylabel(r'$k P(k,\\mu)$ [(Mpc/h)$^2$]')\n",
    "\n",
    "\n",
    "plt.xlim(0,0.25)\n",
    "plt.ylim(500,2000)\n",
    "\n",
    "plt.legend(ncol=3,loc='lower right')\n",
    "\n",
    "plt.show()"
   ]
  },
  {
   "cell_type": "code",
   "execution_count": null,
   "metadata": {},
   "outputs": [],
   "source": [
    "# ... and multipoles\n",
    "plt.figure(figsize=(8,5))\n",
    "\n",
    "ks, p0g, p2g, p4g = fsm.compute_redshift_space_power_multipoles(bvec,f,counterterm_c3=-120)\n",
    "ks, p0, p2, p4 = fsm.compute_redshift_space_power_multipoles(bvec,f,counterterm_c3=0)\n",
    "\n",
    "plt.plot(ks, -1000*ks,'k--',label='n=2')\n",
    "plt.plot(ks, -1000*ks,'k-',label='+ c.t.')\n",
    "\n",
    "\n",
    "plt.plot(ks, ks*p0,'C0-',label=r'$\\ell = 0$')\n",
    "plt.plot(ks, ks*p0g,'C0--')\n",
    "\n",
    "plt.plot(ks, ks*p2,'C1-',label=r'$\\ell = 2$')\n",
    "plt.plot(ks, ks*p2g,'C1--')\n",
    "\n",
    "plt.plot(ks, ks*p4,'C2-',label=r'$\\ell = 4$')\n",
    "plt.plot(ks, ks*p4g,'C2--')\n",
    "\n",
    "plt.xlabel('k [h/Mpc]')\n",
    "plt.ylabel(r'$k P_\\ell(k)$ [(Mpc/h)$^2$]')\n",
    "\n",
    "plt.xlim(0,0.25)\n",
    "plt.ylim(0,1600)\n",
    "\n",
    "plt.legend(ncol=3,loc='upper right')\n",
    "\n",
    "plt.show()"
   ]
  },
  {
   "cell_type": "code",
   "execution_count": null,
   "metadata": {},
   "outputs": [],
   "source": []
  }
 ],
 "metadata": {
  "kernelspec": {
   "display_name": "Python 3",
   "language": "python",
   "name": "python3"
  },
  "language_info": {
   "codemirror_mode": {
    "name": "ipython",
    "version": 3
   },
   "file_extension": ".py",
   "mimetype": "text/x-python",
   "name": "python",
   "nbconvert_exporter": "python",
   "pygments_lexer": "ipython3",
   "version": "3.6.7"
  }
 },
 "nbformat": 4,
 "nbformat_minor": 2
}
