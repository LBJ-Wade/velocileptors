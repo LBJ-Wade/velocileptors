{
 "cells": [
  {
   "cell_type": "code",
   "execution_count": 2,
   "metadata": {},
   "outputs": [],
   "source": [
    "import numpy as np\n",
    "from Utils.loginterp import loginterp\n",
    "\n",
    "from scipy.optimize import curve_fit\n",
    "\n",
    "import time\n",
    "import sys\n",
    "\n",
    "from matplotlib import pyplot as plt"
   ]
  },
  {
   "cell_type": "code",
   "execution_count": 5,
   "metadata": {},
   "outputs": [],
   "source": [
    "import sys\n",
    "sys.path.append('../nbody/')\n",
    "\n",
    "sim_dir = '../nbody/ANL/data/'\n",
    "\n",
    "from cosmo import Cosmology\n",
    "\n",
    "cosmo = Cosmology(dir=sim_dir)"
   ]
  },
  {
   "cell_type": "code",
   "execution_count": 6,
   "metadata": {},
   "outputs": [],
   "source": [
    "##### set plot params ######\n",
    "SMALL_SIZE = 8\n",
    "BIGGER_SIZE = 12\n",
    "BIGGEST_SIZE = 14\n",
    "\n",
    "plt.rc('font', size=BIGGER_SIZE)          # controls default text sizes\n",
    "plt.rc('axes', titlesize=BIGGER_SIZE)     # fontsize of the axes title\n",
    "plt.rc('axes', labelsize=BIGGEST_SIZE)    # fontsize of the x and y labels\n",
    "plt.rc('xtick', labelsize=BIGGER_SIZE)    # fontsize of the tick labels\n",
    "plt.rc('ytick', labelsize=BIGGER_SIZE)    # fontsize of the tick labels\n",
    "plt.rc('legend', fontsize=BIGGER_SIZE)    # legend fontsize\n",
    "plt.rc('figure', titlesize=BIGGEST_SIZE)  # fontsize of the figure title"
   ]
  },
  {
   "cell_type": "code",
   "execution_count": null,
   "metadata": {},
   "outputs": [],
   "source": []
  },
  {
   "cell_type": "code",
   "execution_count": null,
   "metadata": {},
   "outputs": [],
   "source": []
  },
  {
   "cell_type": "code",
   "execution_count": 7,
   "metadata": {},
   "outputs": [],
   "source": [
    "from EPT.ept_fftw import EPT"
   ]
  },
  {
   "cell_type": "code",
   "execution_count": 8,
   "metadata": {},
   "outputs": [],
   "source": [
    "k, p = np.loadtxt('../velocity_moments/ir_resum/ANL15_matterpower_nowiggle.dat').T"
   ]
  },
  {
   "cell_type": "code",
   "execution_count": 10,
   "metadata": {},
   "outputs": [
    {
     "name": "stdout",
     "output_type": "stream",
     "text": [
      "0.26923704147338867\n"
     ]
    }
   ],
   "source": [
    "# First do the Power Spectrum:\n",
    "zeldas = []\n",
    "\n",
    "\n",
    "t1 = time.time()\n",
    "zeldas += [EPT(k, cosmo.iDz(0.8)**2 * p, beyond_gauss = True, one_loop= True, third_order=True,\\\n",
    "                import_wisdom=False, cutoff=20, extrap_min = -5, extrap_max = 3, N = 2000, threads=1),]\n",
    "t2 = time.time()\n",
    "print(t2-t1)"
   ]
  },
  {
   "cell_type": "code",
   "execution_count": null,
   "metadata": {},
   "outputs": [],
   "source": []
  },
  {
   "cell_type": "code",
   "execution_count": 11,
   "metadata": {},
   "outputs": [],
   "source": [
    "# Test the Power Spectrum"
   ]
  },
  {
   "cell_type": "code",
   "execution_count": 13,
   "metadata": {},
   "outputs": [],
   "source": [
    "xi0_spt = np.loadtxt('../velocity_moments/zvonimir/xi_0_oneloop_nowiggle_z0.dat')\n",
    "kzv = xi0_spt[:,0]; plzv = xi0_spt[:,1]"
   ]
  },
  {
   "cell_type": "code",
   "execution_count": 14,
   "metadata": {},
   "outputs": [],
   "source": [
    "D = cosmo.iDz(0.8); f = cosmo.f(0.8)\n",
    "\n",
    "plin = (plzv)*D**2\n",
    "pb1sq = (xi0_spt[:,2] + xi0_spt[:,8])*D**4\n",
    "pb1b2 = xi0_spt[:,3] * D**4\n",
    "pb1bs = xi0_spt[:,4] * D**4\n",
    "pb2sq = xi0_spt[:,5] * D**4\n",
    "pb2bs = xi0_spt[:,6] * D**4\n",
    "pbsbs = xi0_spt[:,7] * D**4\n",
    "pb1b3 = xi0_spt[:,9] * D**4\n",
    "\n",
    "terms = [r'$b_1^2$',r'$b_1 b_2$',r'$b_1 b_s$',r'$b_2^2$',r'$b_2 b_s$',r'$b_s^2$',r'$b_1 b_3$']\n",
    "zvs   = [plin + pb1sq, pb1b2, pb1bs, pb2sq, pb2bs, pbsbs, 0.435*pb1b3]\n",
    "sns   = [0,0,0,1,1,1,0]"
   ]
  },
  {
   "cell_type": "code",
   "execution_count": 15,
   "metadata": {},
   "outputs": [
    {
     "ename": "AttributeError",
     "evalue": "'EPT' object has no attribute 'pktable_spt'",
     "output_type": "error",
     "traceback": [
      "\u001b[0;31m---------------------------------------------------------------------------\u001b[0m",
      "\u001b[0;31mAttributeError\u001b[0m                            Traceback (most recent call last)",
      "\u001b[0;32m<ipython-input-15-f1f7913f70b7>\u001b[0m in \u001b[0;36m<module>\u001b[0;34m()\u001b[0m\n\u001b[1;32m      4\u001b[0m \u001b[0;34m\u001b[0m\u001b[0m\n\u001b[1;32m      5\u001b[0m     \u001b[0;32mfor\u001b[0m \u001b[0mii\u001b[0m\u001b[0;34m,\u001b[0m \u001b[0mzelda\u001b[0m \u001b[0;32min\u001b[0m \u001b[0menumerate\u001b[0m\u001b[0;34m(\u001b[0m\u001b[0mzeldas\u001b[0m\u001b[0;34m)\u001b[0m\u001b[0;34m:\u001b[0m\u001b[0;34m\u001b[0m\u001b[0;34m\u001b[0m\u001b[0m\n\u001b[0;32m----> 6\u001b[0;31m         \u001b[0mplt\u001b[0m\u001b[0;34m.\u001b[0m\u001b[0mplot\u001b[0m\u001b[0;34m(\u001b[0m\u001b[0mzelda\u001b[0m\u001b[0;34m.\u001b[0m\u001b[0mpktable_spt\u001b[0m\u001b[0;34m[\u001b[0m\u001b[0;34m:\u001b[0m\u001b[0;34m,\u001b[0m\u001b[0;36m0\u001b[0m\u001b[0;34m]\u001b[0m\u001b[0;34m,\u001b[0m \u001b[0mzelda\u001b[0m\u001b[0;34m.\u001b[0m\u001b[0mpktable_spt\u001b[0m\u001b[0;34m[\u001b[0m\u001b[0;34m:\u001b[0m\u001b[0;34m,\u001b[0m\u001b[0;36m0\u001b[0m\u001b[0;34m]\u001b[0m\u001b[0;34m**\u001b[0m\u001b[0;36m1\u001b[0m \u001b[0;34m*\u001b[0m \u001b[0mzelda\u001b[0m\u001b[0;34m.\u001b[0m\u001b[0mpktable_spt\u001b[0m\u001b[0;34m[\u001b[0m\u001b[0;34m:\u001b[0m\u001b[0;34m,\u001b[0m\u001b[0mjj\u001b[0m\u001b[0;34m+\u001b[0m\u001b[0;36m1\u001b[0m\u001b[0;34m]\u001b[0m\u001b[0;34m,\u001b[0m\u001b[0mlabel\u001b[0m\u001b[0;34m=\u001b[0m\u001b[0;34m'SC'\u001b[0m\u001b[0;34m)\u001b[0m\u001b[0;34m\u001b[0m\u001b[0;34m\u001b[0m\u001b[0m\n\u001b[0m\u001b[1;32m      7\u001b[0m \u001b[0;34m\u001b[0m\u001b[0m\n\u001b[1;32m      8\u001b[0m     \u001b[0msn\u001b[0m \u001b[0;34m=\u001b[0m \u001b[0msns\u001b[0m\u001b[0;34m[\u001b[0m\u001b[0mjj\u001b[0m\u001b[0;34m]\u001b[0m \u001b[0;34m*\u001b[0m \u001b[0mnp\u001b[0m\u001b[0;34m.\u001b[0m\u001b[0mmedian\u001b[0m\u001b[0;34m(\u001b[0m \u001b[0mnp\u001b[0m\u001b[0;34m.\u001b[0m\u001b[0minterp\u001b[0m\u001b[0;34m(\u001b[0m\u001b[0mkzv\u001b[0m\u001b[0;34m,\u001b[0m \u001b[0mzelda\u001b[0m\u001b[0;34m.\u001b[0m\u001b[0mpktable_spt\u001b[0m\u001b[0;34m[\u001b[0m\u001b[0;34m:\u001b[0m\u001b[0;34m,\u001b[0m\u001b[0;36m0\u001b[0m\u001b[0;34m]\u001b[0m\u001b[0;34m,\u001b[0m \u001b[0mzeldas\u001b[0m\u001b[0;34m[\u001b[0m\u001b[0;36m0\u001b[0m\u001b[0;34m]\u001b[0m\u001b[0;34m.\u001b[0m\u001b[0mpktable_spt\u001b[0m\u001b[0;34m[\u001b[0m\u001b[0;34m:\u001b[0m\u001b[0;34m,\u001b[0m\u001b[0mjj\u001b[0m\u001b[0;34m+\u001b[0m\u001b[0;36m1\u001b[0m\u001b[0;34m]\u001b[0m\u001b[0;34m)\u001b[0m \u001b[0;34m-\u001b[0m \u001b[0mzvs\u001b[0m\u001b[0;34m[\u001b[0m\u001b[0mjj\u001b[0m\u001b[0;34m]\u001b[0m \u001b[0;34m)\u001b[0m\u001b[0;34m\u001b[0m\u001b[0;34m\u001b[0m\u001b[0m\n",
      "\u001b[0;31mAttributeError\u001b[0m: 'EPT' object has no attribute 'pktable_spt'"
     ]
    }
   ],
   "source": [
    "for jj, term in enumerate(terms):\n",
    "    \n",
    "    plt.figure(figsize=(10,5))\n",
    "\n",
    "    for ii, zelda in enumerate(zeldas):\n",
    "        plt.plot(zelda.pktable_ept[:,0], zelda.pktable_ept[:,0]**1 * zelda.pktable_ept[:,jj+1],label='SC')\n",
    "\n",
    "    sn = sns[jj] * np.median( np.interp(kzv, zelda.pktable_spt[:,0], zeldas[0].pktable_spt[:,jj+1]) - zvs[jj] )\n",
    "    plt.plot(kzv,  kzv*(zvs[jj] + sn), 'k--',label='ZV')\n",
    "    plt.fill_between(kzv, 0.99*(kzv*(zvs[jj] + sn)), 1.01*(kzv*(zvs[jj] + sn)), alpha=0.5)\n",
    "    plt.xlim(0,0.5)\n",
    "    #plt.ylim(120,325)\n",
    "\n",
    "    plt.xlabel('k [h/Mpc]')\n",
    "    plt.ylabel(r'$k P^E(k)$')\n",
    "    plt.legend(ncol=2)\n",
    "    plt.title(term)\n",
    "    plt.tight_layout()\n",
    "\n",
    "    #plt.savefig('./spt_lpt_comparison_matter_nw.pdf')\n",
    "\n",
    "\n",
    "    plt.show()"
   ]
  },
  {
   "cell_type": "code",
   "execution_count": null,
   "metadata": {},
   "outputs": [],
   "source": [
    "zelda.p"
   ]
  },
  {
   "cell_type": "code",
   "execution_count": null,
   "metadata": {},
   "outputs": [],
   "source": [
    "# First Moment:\n",
    "xi1_spt = np.loadtxt('../zvonimir/xi_1_oneloop_nowigg_z0.dat')\n",
    "plin = (2*plzv)*D**2\n",
    "pb1 = (xi1_spt[:,2] + xi1_spt[:,8])*D**4\n",
    "pb1sq = (xi1_spt[:,5] + xi1_spt[:,10])*D**4\n",
    "pb2 = xi1_spt[:,3] * D**4\n",
    "pb1b2 = xi1_spt[:,6] * D**4\n",
    "pbs = xi1_spt[:,4] * D**4\n",
    "pb1bs = xi1_spt[:,7] * D**4\n",
    "pb3 = xi1_spt[:,9] * D**4\n",
    "\n",
    "terms = [r'$b_1$',r'$b_1^2$',r'$b_2$',r'$b_1 b_2$', r'$b_s$', r'$b_1 b_s$', r'$b_3$',]\n",
    "zvs = [plin + pb1, pb1sq, pb2, pb1b2, pbs, pb1bs, 0.434*pb3]"
   ]
  },
  {
   "cell_type": "code",
   "execution_count": null,
   "metadata": {},
   "outputs": [],
   "source": [
    "for jj, term in enumerate(terms):\n",
    "    \n",
    "    plt.figure(figsize=(10,5))\n",
    "\n",
    "    for ii, zelda in enumerate(zeldas):\n",
    "        plt.plot(zelda.pktable_spt[:,0], zelda.pktable_spt[:,0]**2 * zelda.vktable_spt[:,jj+1],label='SC')\n",
    "\n",
    "    plt.plot(kzv,  -kzv*(zvs[jj]), 'k--',label='ZV')\n",
    "    plt.fill_between(kzv, -0.99*(kzv*(zvs[jj] + sn)), -1.01*(kzv*(zvs[jj] + sn)), alpha=0.5)\n",
    "    plt.xlim(0,0.5)\n",
    "    #plt.ylim(120,325)\n",
    "\n",
    "    plt.xlabel('k [h/Mpc]')\n",
    "    plt.ylabel(r'$k^2 v^E(k)$')\n",
    "    plt.legend(ncol=2)\n",
    "    plt.title(term)\n",
    "    plt.tight_layout()\n",
    "\n",
    "    #plt.savefig('./spt_lpt_comparison_matter_nw.pdf')\n",
    "\n",
    "\n",
    "    plt.show()"
   ]
  },
  {
   "cell_type": "code",
   "execution_count": null,
   "metadata": {},
   "outputs": [],
   "source": []
  },
  {
   "cell_type": "code",
   "execution_count": null,
   "metadata": {},
   "outputs": [],
   "source": [
    "# # Finally, sigma(k)\n",
    "xi20_spt = np.loadtxt('../zvonimir/xi_2_oneloop_nowigg_pownu2_z0.dat')\n",
    "xi24_spt = np.loadtxt('../zvonimir/xi_2_oneloop_nowigg_pownu4_z0.dat')"
   ]
  },
  {
   "cell_type": "code",
   "execution_count": null,
   "metadata": {},
   "outputs": [],
   "source": [
    "# Quadrupole First\n",
    "s2lin = (plzv)*D**2\n",
    "s2loop = (xi24_spt[:,2] + xi24_spt[:,7])*D**4\n",
    "s2b1 = (xi24_spt[:,3] + xi24_spt[:,8])*D**4\n",
    "s2b1sq = (xi24_spt[:,6] + xi24_spt[:,9])*D**4\n",
    "s2b2 = (xi24_spt[:,4])*D**4\n",
    "s2bs = (xi24_spt[:,5])*D**4\n",
    "s2ct = kzv**2 * plzv\n",
    "\n",
    "zvs = [s2lin + s2loop, s2b1, s2b1sq, s2b2, s2bs]\n",
    "terms = ['1',r'$b_1$',r'$b_1^2$',r'$b_2$',r'$b_s$']"
   ]
  },
  {
   "cell_type": "code",
   "execution_count": null,
   "metadata": {},
   "outputs": [],
   "source": [
    "for jj, term in enumerate(terms):\n",
    "    \n",
    "    plt.figure(figsize=(10,5))\n",
    "\n",
    "    for ii, zelda in enumerate(zeldas):\n",
    "        plt.plot(zelda.pktable_spt[:,0], zelda.pktable_spt[:,0]**3 * zelda.s2ktable_spt[:,jj+1],label='SC')\n",
    "\n",
    "    plt.plot(kzv,  -4./3*kzv*(zvs[jj]), 'k--',label='ZV')\n",
    "    plt.fill_between(kzv, -4./3*0.99*(kzv*(zvs[jj] + sn)), -4./3*1.01*(kzv*(zvs[jj] + sn)), alpha=0.3)\n",
    "    plt.xlim(0,0.5)\n",
    "    #plt.ylim(120,325)\n",
    "\n",
    "    plt.xlabel('k [h/Mpc]')\n",
    "    plt.ylabel(r'$k^3 \\sigma_2^E(k)$')\n",
    "    plt.legend(ncol=2)\n",
    "    plt.title(term)\n",
    "    plt.tight_layout()\n",
    "\n",
    "    #plt.savefig('./spt_lpt_comparison_matter_nw.pdf')\n",
    "\n",
    "\n",
    "    plt.show()"
   ]
  },
  {
   "cell_type": "code",
   "execution_count": null,
   "metadata": {},
   "outputs": [],
   "source": [
    "# Now the monopole:\n",
    "s2lin = (plzv/3)*D**2\n",
    "s2loop = (xi20_spt[:,2] + xi20_spt[:,7])*D**4 + 1./3*(xi24_spt[:,2] + xi24_spt[:,7])*D**4\n",
    "s2b1 = (xi20_spt[:,3] + xi20_spt[:,8])*D**4 + 1./3*(xi24_spt[:,3] + xi24_spt[:,8])*D**4\n",
    "s2b1sq = (xi20_spt[:,6] + xi20_spt[:,9])*D**4 + 1./3*(xi24_spt[:,6] + xi24_spt[:,9])*D**4\n",
    "s2b2 = (xi20_spt[:,4])*D**4 + 1./3*(xi24_spt[:,4])*D**4\n",
    "s2bs = (xi20_spt[:,5])*D**4 + 1./3*(xi24_spt[:,5])*D**4\n",
    "\n",
    "zvs = [s2lin + s2loop, s2b1, s2b1sq, s2b2, s2bs]\n",
    "terms = ['1',r'$b_1$',r'$b_1^2$',r'$b_2$',r'$b_s$']"
   ]
  },
  {
   "cell_type": "code",
   "execution_count": null,
   "metadata": {},
   "outputs": [],
   "source": [
    "for jj, term in enumerate(terms):\n",
    "    \n",
    "    plt.figure(figsize=(10,5))\n",
    "\n",
    "    for ii, zelda in enumerate(zeldas):\n",
    "        plt.plot(zelda.pktable_spt[:,0], zelda.pktable_spt[:,0]**3 * zelda.s0ktable_spt[:,jj+1],label='SC')\n",
    "\n",
    "    plt.plot(kzv,  -2*kzv*(zvs[jj]), 'k--',label='ZV')\n",
    "    plt.fill_between(kzv, -2*0.99*(kzv*(zvs[jj] + sn)), -2*1.01*(kzv*(zvs[jj] + sn)), alpha=0.3)\n",
    "    plt.xlim(0,0.5)\n",
    "    #plt.ylim(120,325)\n",
    "\n",
    "    plt.xlabel('k [h/Mpc]')\n",
    "    plt.ylabel(r'$k^3 \\sigma_0^E(k)$')\n",
    "    plt.legend(ncol=2)\n",
    "    plt.title(term)\n",
    "    plt.tight_layout()\n",
    "\n",
    "    #plt.savefig('./spt_lpt_comparison_matter_nw.pdf')\n",
    "\n",
    "\n",
    "    plt.show()"
   ]
  },
  {
   "cell_type": "code",
   "execution_count": null,
   "metadata": {},
   "outputs": [],
   "source": [
    "# What's going on with the b_1^2 term?"
   ]
  },
  {
   "cell_type": "code",
   "execution_count": null,
   "metadata": {},
   "outputs": [],
   "source": [
    "for jj, term in [ (2, r'$b_1^2$')  ]:\n",
    "    \n",
    "    plt.figure(figsize=(10,5))\n",
    "\n",
    "    for ii, zelda in enumerate(zeldas):\n",
    "        plt.plot(zelda.pktable_spt[:,0], zelda.pktable_spt[:,0]**3 * zelda.s0ktable_spt[:,jj+1],label='SC')\n",
    "\n",
    "    sn =  0.3\n",
    "    plt.plot(kzv,  -2*kzv*(zvs[jj]+sn), 'k--',label='ZV')\n",
    "    plt.fill_between(kzv, -2*0.99*(kzv*(zvs[jj] + sn)), -2*1.01*(kzv*(zvs[jj]+sn )), alpha=0.3)\n",
    "    plt.xlim(0,0.5)\n",
    "    #plt.ylim(120,325)\n",
    "\n",
    "    plt.xlabel('k [h/Mpc]')\n",
    "    plt.ylabel(r'$k^3 \\sigma_0^E(k)$')\n",
    "    plt.legend(ncol=2)\n",
    "    plt.title(term)\n",
    "    plt.tight_layout()\n",
    "\n",
    "    #plt.savefig('./spt_lpt_comparison_matter_nw.pdf')\n",
    "\n",
    "\n",
    "    plt.show()"
   ]
  },
  {
   "cell_type": "code",
   "execution_count": null,
   "metadata": {},
   "outputs": [],
   "source": []
  },
  {
   "cell_type": "code",
   "execution_count": null,
   "metadata": {},
   "outputs": [],
   "source": [
    "# Now do the third moment:\n",
    "xi3_spt = np.loadtxt('../zvonimir/xi_3_oneloop_nowigg_pownu4_z0.dat')\n",
    "xi3_1 = (xi3_spt[:,2] + xi3_spt[:,4]) * D**4\n",
    "xi3_b1 = (xi3_spt[:,3] + xi3_spt[:,5]) * D**4"
   ]
  },
  {
   "cell_type": "code",
   "execution_count": null,
   "metadata": {},
   "outputs": [],
   "source": [
    "zvs = [xi3_1, xi3_b1]\n",
    "terms = ['1',r'$b_1$']"
   ]
  },
  {
   "cell_type": "code",
   "execution_count": null,
   "metadata": {},
   "outputs": [],
   "source": [
    "for jj, term in enumerate(terms):\n",
    "    \n",
    "    plt.figure(figsize=(10,5))\n",
    "\n",
    "    for ii, zelda in enumerate(zeldas):\n",
    "        plt.plot(zelda.pktable_spt[:,0], zelda.pktable_spt[:,0]**4 * zelda.g1ktable_spt[:,jj+1],label='SC')\n",
    "        #plt.plot(zelda.pktable_spt[:,0], zelda.pktable_spt[:,0]**4 * zelda.g1[:,2],label=label)\n",
    "\n",
    "        \n",
    "    plt.plot(kzv,  6*kzv*(zvs[jj]), 'k--',label='ZV')\n",
    "    plt.fill_between(kzv, 6*0.99*(kzv*(zvs[jj] + sn)), 6*1.01*(kzv*(zvs[jj] + sn)), alpha=0.3)\n",
    "    plt.xlim(0,0.5)\n",
    "    #plt.ylim(120,325)\n",
    "\n",
    "    plt.xlabel('k [h/Mpc]')\n",
    "    plt.ylabel(r'$k^4 \\gamma_1^E(k)$')\n",
    "    plt.legend(ncol=2)\n",
    "    plt.title(term)\n",
    "    plt.tight_layout()\n",
    "\n",
    "    #plt.savefig('./spt_lpt_comparison_matter_nw.pdf')\n",
    "\n",
    "\n",
    "    plt.show()"
   ]
  },
  {
   "cell_type": "code",
   "execution_count": null,
   "metadata": {},
   "outputs": [],
   "source": [
    "# Now do the third moment:\n",
    "xi3_spt = np.loadtxt('../zvonimir/xi_3_oneloop_nowigg_pownu6_z0.dat')\n",
    "xi3_1 = (xi3_spt[:,2] + xi3_spt[:,4]) * D**4\n",
    "xi3_b1 = (xi3_spt[:,3] + xi3_spt[:,5]) * D**4\n",
    "\n",
    "zvs = [xi3_1, xi3_b1]\n",
    "terms = ['1',r'$b_1$']"
   ]
  },
  {
   "cell_type": "code",
   "execution_count": null,
   "metadata": {},
   "outputs": [],
   "source": [
    "for jj, term in enumerate(terms):\n",
    "    \n",
    "    plt.figure(figsize=(10,5))\n",
    "\n",
    "    for ii, zelda in enumerate(zeldas):\n",
    "        plt.plot(zelda.pktable_spt[:,0], zelda.pktable_spt[:,0]**4 * zelda.g3ktable_spt[:,jj+1],label='SC')\n",
    "        #plt.plot(zelda.pktable_spt[:,0], zelda.pktable_spt[:,0]**4 * zelda.g3[:,2],label=label)\n",
    "\n",
    "        \n",
    "    plt.plot(kzv,  6*kzv*(zvs[jj]), 'k--',label='ZV')\n",
    "    plt.fill_between(kzv, 6*0.99*(kzv*(zvs[jj] + sn)), 6*1.01*(kzv*(zvs[jj] + sn)), alpha=0.3)\n",
    "    plt.xlim(0,0.5)\n",
    "    #plt.ylim(120,325)\n",
    "\n",
    "    plt.xlabel('k [h/Mpc]')\n",
    "    plt.ylabel(r'$k^4 \\gamma_3^E(k)$')\n",
    "    plt.legend(ncol=2)\n",
    "    plt.title(term)\n",
    "    plt.tight_layout()\n",
    "\n",
    "    #plt.savefig('./spt_lpt_comparison_matter_nw.pdf')\n",
    "\n",
    "\n",
    "    plt.show()"
   ]
  },
  {
   "cell_type": "code",
   "execution_count": null,
   "metadata": {},
   "outputs": [],
   "source": []
  },
  {
   "cell_type": "code",
   "execution_count": null,
   "metadata": {},
   "outputs": [],
   "source": []
  },
  {
   "cell_type": "code",
   "execution_count": null,
   "metadata": {},
   "outputs": [],
   "source": [
    "# Finally, the fourth moment:"
   ]
  },
  {
   "cell_type": "code",
   "execution_count": null,
   "metadata": {},
   "outputs": [],
   "source": [
    "# Import Zvonimir's file, mu^4\n",
    "xi4_spt = np.loadtxt('../zvonimir/xi_4_oneloop_nowigg_pownu4_z0.dat')\n",
    "\n",
    "kzv = xi4_spt[:,0]\n",
    "xi4_spt = (xi4_spt[:,2] + xi4_spt[:,3])*D**4"
   ]
  },
  {
   "cell_type": "code",
   "execution_count": null,
   "metadata": {},
   "outputs": [],
   "source": [
    "plt.plot(kzv, kzv*xi4_spt)\n",
    "plt.plot(zelda.kv, zelda.kv**5*zeldas[0].k0/24, 'k:' )\n",
    "\n",
    "plt.xlim(0,0.25)\n",
    "plt.ylim(-1,8)\n",
    "\n",
    "plt.show()"
   ]
  },
  {
   "cell_type": "code",
   "execution_count": null,
   "metadata": {},
   "outputs": [],
   "source": [
    "# Import Zvonimir's file, mu^6\n",
    "xi4_spt = np.loadtxt('../zvonimir/xi_4_oneloop_nowigg_pownu6_z0.dat')\n",
    "\n",
    "kzv = xi4_spt[:,0]\n",
    "xi4_spt = (xi4_spt[:,2] + xi4_spt[:,3])*D**4"
   ]
  },
  {
   "cell_type": "code",
   "execution_count": null,
   "metadata": {},
   "outputs": [],
   "source": [
    "plt.plot(kzv, kzv*xi4_spt)\n",
    "plt.plot(zelda.kv, zelda.kv**5*zeldas[0].k2/24, 'k:' )\n",
    "\n",
    "plt.xlim(0,0.25)\n",
    "plt.ylim(-80,10)\n",
    "\n",
    "plt.show()"
   ]
  },
  {
   "cell_type": "code",
   "execution_count": null,
   "metadata": {},
   "outputs": [],
   "source": [
    "# Import Zvonimir's file, mu^8\n",
    "xi4_spt = np.loadtxt('../zvonimir/xi_4_oneloop_nowigg_pownu8_z0.dat')\n",
    "\n",
    "kzv = xi4_spt[:,0]\n",
    "xi4_spt = (xi4_spt[:,2] + xi4_spt[:,3])*cosmo.iDz(0.8)**4"
   ]
  },
  {
   "cell_type": "code",
   "execution_count": null,
   "metadata": {},
   "outputs": [],
   "source": [
    "plt.plot(kzv, kzv*xi4_spt)\n",
    "plt.plot(zelda.kv, zelda.kv**5*zeldas[0].k4/24, 'k:' )\n",
    "\n",
    "plt.xlim(0,0.25)\n",
    "plt.ylim(-1,100)\n",
    "\n",
    "plt.show()"
   ]
  },
  {
   "cell_type": "code",
   "execution_count": null,
   "metadata": {},
   "outputs": [],
   "source": [
    "plt.plot(zeldas[0].pktable_spt[:,0], zeldas[0].pktable_spt[:,-1]/zeldas[0].pktable_spt[:,0]**2)\n",
    "plt.plot(k, D**2*p,'--')\n",
    "plt.xscale('log')\n",
    "plt.yscale('log')\n",
    "plt.show()"
   ]
  },
  {
   "cell_type": "code",
   "execution_count": null,
   "metadata": {},
   "outputs": [],
   "source": [
    "zelda.kv"
   ]
  },
  {
   "cell_type": "code",
   "execution_count": null,
   "metadata": {},
   "outputs": [],
   "source": [
    "zelda.pktabl"
   ]
  },
  {
   "cell_type": "code",
   "execution_count": null,
   "metadata": {},
   "outputs": [],
   "source": []
  }
 ],
 "metadata": {
  "kernelspec": {
   "display_name": "Python 3",
   "language": "python",
   "name": "python3"
  },
  "language_info": {
   "codemirror_mode": {
    "name": "ipython",
    "version": 3
   },
   "file_extension": ".py",
   "mimetype": "text/x-python",
   "name": "python",
   "nbconvert_exporter": "python",
   "pygments_lexer": "ipython3",
   "version": "3.6.7"
  }
 },
 "nbformat": 4,
 "nbformat_minor": 2
}
